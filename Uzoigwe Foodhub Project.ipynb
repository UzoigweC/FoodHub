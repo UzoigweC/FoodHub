{
  "cells": [
    {
      "cell_type": "markdown",
      "metadata": {
        "id": "80ctNtpYm6t5"
      },
      "source": [
        "## Note: This is a sample solution for the project. Projects will NOT be graded on the basis of how well the submission matches this sample solution. Projects will be graded on the basis of the rubric only."
      ]
    },
    {
      "cell_type": "markdown",
      "metadata": {
        "id": "5Fc60oI6m6uD"
      },
      "source": [
        "# Project Python Foundations: FoodHub Data Analysis\n",
        "\n",
        "**Marks: 60**"
      ]
    },
    {
      "cell_type": "markdown",
      "metadata": {
        "id": "dTZOe75Um6uF"
      },
      "source": [
        "### Context\n",
        "\n",
        "The number of restaurants in New York is increasing day by day. Lots of students and busy professionals rely on those restaurants due to their hectic lifestyles. Online food delivery service is a great option for them. It provides them with good food from their favorite restaurants. A food aggregator company FoodHub offers access to multiple restaurants through a single smartphone app.\n",
        "\n",
        "The app allows the restaurants to receive a direct online order from a customer. The app assigns a delivery person from the company to pick up the order after it is confirmed by the restaurant. The delivery person then uses the map to reach the restaurant and waits for the food package. Once the food package is handed over to the delivery person, he/she confirms the pick-up in the app and travels to the customer's location to deliver the food. The delivery person confirms the drop-off in the app after delivering the food package to the customer. The customer can rate the order in the app. The food aggregator earns money by collecting a fixed margin of the delivery order from the restaurants.\n",
        "\n",
        "### Objective\n",
        "\n",
        "The food aggregator company has stored the data of the different orders made by the registered customers in their online portal. They want to analyze the data to get a fair idea about the demand of different restaurants which will help them in enhancing their customer experience. Suppose you are hired as a Data Scientist in this company and the Data Science team has shared some of the key questions that need to be answered. Perform the data analysis to find answers to these questions that will help the company to improve the business.\n",
        "\n",
        "### Data Description\n",
        "\n",
        "The data contains the different data related to a food order. The detailed data dictionary is given below.\n",
        "\n",
        "### Data Dictionary\n",
        "\n",
        "* order_id: Unique ID of the order\n",
        "* customer_id: ID of the customer who ordered the food\n",
        "* restaurant_name: Name of the restaurant\n",
        "* cuisine_type: Cuisine ordered by the customer\n",
        "* cost_of_the_order: Cost of the order\n",
        "* day_of_the_week: Indicates whether the order is placed on a weekday or weekend (The weekday is from Monday to Friday and the weekend is Saturday and Sunday)\n",
        "* rating: Rating given by the customer out of 5\n",
        "* food_preparation_time: Time (in minutes) taken by the restaurant to prepare the food. This is calculated by taking the difference between the timestamps of the restaurant's order confirmation and the delivery person's pick-up confirmation.\n",
        "* delivery_time: Time (in minutes) taken by the delivery person to deliver the food package. This is calculated by taking the difference between the timestamps of the delivery person's pick-up confirmation and drop-off information"
      ]
    },
    {
      "cell_type": "markdown",
      "metadata": {
        "id": "9tRIjr4im6uI"
      },
      "source": [
        "### Let us start by importing the required libraries"
      ]
    },
    {
      "cell_type": "code",
      "execution_count": null,
      "metadata": {
        "id": "lPv3wfMGm6uJ"
      },
      "outputs": [],
      "source": [
        "# import libraries for data manipulation\n",
        "import numpy as np\n",
        "import pandas as pd\n",
        "\n",
        "# import libraries for data visualization\n",
        "import matplotlib.pyplot as plt\n",
        "import seaborn as sns\n",
        "\n",
        "%matplotlib inline"
      ]
    },
    {
      "cell_type": "markdown",
      "metadata": {
        "id": "PQ3NUa4mm6uM"
      },
      "source": [
        "### Understanding the structure of the data"
      ]
    },
    {
      "cell_type": "code",
      "execution_count": null,
      "metadata": {
        "colab": {
          "base_uri": "https://localhost:8080/",
          "height": 73
        },
        "id": "viGSxT42m6uN",
        "outputId": "0a742644-1447-4d4b-fdb3-f726afc1b9a7",
        "scrolled": true
      },
      "outputs": [
        {
          "output_type": "display_data",
          "data": {
            "text/plain": [
              "<IPython.core.display.HTML object>"
            ],
            "text/html": [
              "\n",
              "     <input type=\"file\" id=\"files-3e9876d5-6559-48fb-82dd-940414fbff4a\" name=\"files[]\" multiple disabled\n",
              "        style=\"border:none\" />\n",
              "     <output id=\"result-3e9876d5-6559-48fb-82dd-940414fbff4a\">\n",
              "      Upload widget is only available when the cell has been executed in the\n",
              "      current browser session. Please rerun this cell to enable.\n",
              "      </output>\n",
              "      <script>// Copyright 2017 Google LLC\n",
              "//\n",
              "// Licensed under the Apache License, Version 2.0 (the \"License\");\n",
              "// you may not use this file except in compliance with the License.\n",
              "// You may obtain a copy of the License at\n",
              "//\n",
              "//      http://www.apache.org/licenses/LICENSE-2.0\n",
              "//\n",
              "// Unless required by applicable law or agreed to in writing, software\n",
              "// distributed under the License is distributed on an \"AS IS\" BASIS,\n",
              "// WITHOUT WARRANTIES OR CONDITIONS OF ANY KIND, either express or implied.\n",
              "// See the License for the specific language governing permissions and\n",
              "// limitations under the License.\n",
              "\n",
              "/**\n",
              " * @fileoverview Helpers for google.colab Python module.\n",
              " */\n",
              "(function(scope) {\n",
              "function span(text, styleAttributes = {}) {\n",
              "  const element = document.createElement('span');\n",
              "  element.textContent = text;\n",
              "  for (const key of Object.keys(styleAttributes)) {\n",
              "    element.style[key] = styleAttributes[key];\n",
              "  }\n",
              "  return element;\n",
              "}\n",
              "\n",
              "// Max number of bytes which will be uploaded at a time.\n",
              "const MAX_PAYLOAD_SIZE = 100 * 1024;\n",
              "\n",
              "function _uploadFiles(inputId, outputId) {\n",
              "  const steps = uploadFilesStep(inputId, outputId);\n",
              "  const outputElement = document.getElementById(outputId);\n",
              "  // Cache steps on the outputElement to make it available for the next call\n",
              "  // to uploadFilesContinue from Python.\n",
              "  outputElement.steps = steps;\n",
              "\n",
              "  return _uploadFilesContinue(outputId);\n",
              "}\n",
              "\n",
              "// This is roughly an async generator (not supported in the browser yet),\n",
              "// where there are multiple asynchronous steps and the Python side is going\n",
              "// to poll for completion of each step.\n",
              "// This uses a Promise to block the python side on completion of each step,\n",
              "// then passes the result of the previous step as the input to the next step.\n",
              "function _uploadFilesContinue(outputId) {\n",
              "  const outputElement = document.getElementById(outputId);\n",
              "  const steps = outputElement.steps;\n",
              "\n",
              "  const next = steps.next(outputElement.lastPromiseValue);\n",
              "  return Promise.resolve(next.value.promise).then((value) => {\n",
              "    // Cache the last promise value to make it available to the next\n",
              "    // step of the generator.\n",
              "    outputElement.lastPromiseValue = value;\n",
              "    return next.value.response;\n",
              "  });\n",
              "}\n",
              "\n",
              "/**\n",
              " * Generator function which is called between each async step of the upload\n",
              " * process.\n",
              " * @param {string} inputId Element ID of the input file picker element.\n",
              " * @param {string} outputId Element ID of the output display.\n",
              " * @return {!Iterable<!Object>} Iterable of next steps.\n",
              " */\n",
              "function* uploadFilesStep(inputId, outputId) {\n",
              "  const inputElement = document.getElementById(inputId);\n",
              "  inputElement.disabled = false;\n",
              "\n",
              "  const outputElement = document.getElementById(outputId);\n",
              "  outputElement.innerHTML = '';\n",
              "\n",
              "  const pickedPromise = new Promise((resolve) => {\n",
              "    inputElement.addEventListener('change', (e) => {\n",
              "      resolve(e.target.files);\n",
              "    });\n",
              "  });\n",
              "\n",
              "  const cancel = document.createElement('button');\n",
              "  inputElement.parentElement.appendChild(cancel);\n",
              "  cancel.textContent = 'Cancel upload';\n",
              "  const cancelPromise = new Promise((resolve) => {\n",
              "    cancel.onclick = () => {\n",
              "      resolve(null);\n",
              "    };\n",
              "  });\n",
              "\n",
              "  // Wait for the user to pick the files.\n",
              "  const files = yield {\n",
              "    promise: Promise.race([pickedPromise, cancelPromise]),\n",
              "    response: {\n",
              "      action: 'starting',\n",
              "    }\n",
              "  };\n",
              "\n",
              "  cancel.remove();\n",
              "\n",
              "  // Disable the input element since further picks are not allowed.\n",
              "  inputElement.disabled = true;\n",
              "\n",
              "  if (!files) {\n",
              "    return {\n",
              "      response: {\n",
              "        action: 'complete',\n",
              "      }\n",
              "    };\n",
              "  }\n",
              "\n",
              "  for (const file of files) {\n",
              "    const li = document.createElement('li');\n",
              "    li.append(span(file.name, {fontWeight: 'bold'}));\n",
              "    li.append(span(\n",
              "        `(${file.type || 'n/a'}) - ${file.size} bytes, ` +\n",
              "        `last modified: ${\n",
              "            file.lastModifiedDate ? file.lastModifiedDate.toLocaleDateString() :\n",
              "                                    'n/a'} - `));\n",
              "    const percent = span('0% done');\n",
              "    li.appendChild(percent);\n",
              "\n",
              "    outputElement.appendChild(li);\n",
              "\n",
              "    const fileDataPromise = new Promise((resolve) => {\n",
              "      const reader = new FileReader();\n",
              "      reader.onload = (e) => {\n",
              "        resolve(e.target.result);\n",
              "      };\n",
              "      reader.readAsArrayBuffer(file);\n",
              "    });\n",
              "    // Wait for the data to be ready.\n",
              "    let fileData = yield {\n",
              "      promise: fileDataPromise,\n",
              "      response: {\n",
              "        action: 'continue',\n",
              "      }\n",
              "    };\n",
              "\n",
              "    // Use a chunked sending to avoid message size limits. See b/62115660.\n",
              "    let position = 0;\n",
              "    do {\n",
              "      const length = Math.min(fileData.byteLength - position, MAX_PAYLOAD_SIZE);\n",
              "      const chunk = new Uint8Array(fileData, position, length);\n",
              "      position += length;\n",
              "\n",
              "      const base64 = btoa(String.fromCharCode.apply(null, chunk));\n",
              "      yield {\n",
              "        response: {\n",
              "          action: 'append',\n",
              "          file: file.name,\n",
              "          data: base64,\n",
              "        },\n",
              "      };\n",
              "\n",
              "      let percentDone = fileData.byteLength === 0 ?\n",
              "          100 :\n",
              "          Math.round((position / fileData.byteLength) * 100);\n",
              "      percent.textContent = `${percentDone}% done`;\n",
              "\n",
              "    } while (position < fileData.byteLength);\n",
              "  }\n",
              "\n",
              "  // All done.\n",
              "  yield {\n",
              "    response: {\n",
              "      action: 'complete',\n",
              "    }\n",
              "  };\n",
              "}\n",
              "\n",
              "scope.google = scope.google || {};\n",
              "scope.google.colab = scope.google.colab || {};\n",
              "scope.google.colab._files = {\n",
              "  _uploadFiles,\n",
              "  _uploadFilesContinue,\n",
              "};\n",
              "})(self);\n",
              "</script> "
            ]
          },
          "metadata": {}
        },
        {
          "output_type": "stream",
          "name": "stdout",
          "text": [
            "Saving foodhub_order.csv to foodhub_order.csv\n"
          ]
        }
      ],
      "source": [
        "# read the data\n",
        "# df = pd.read_csv('foodhub_order.csv')\n",
        "# # returns the first 5 rows\n",
        "# df.head()\n",
        "\n",
        "# Reading the data-set into Google colab\n",
        "from google.colab import files\n",
        "uploaded = files.upload()\n",
        "\n",
        "# Getting the csvs in a data-frame\n",
        "#--This is required only if Google Colab is being used\n",
        "import io\n",
        "df = pd.read_csv(io.BytesIO(uploaded['foodhub_order.csv']))# Dataset is now stored in a Pandas Dataframe\n",
        "#honeyprod = pd.read_csv(\"honeyproduction1998-2016.csv\")"
      ]
    },
    {
      "cell_type": "markdown",
      "metadata": {
        "id": "4UcGA_cqm6uR"
      },
      "source": [
        "#### Observations:\n",
        "\n",
        "The DataFrame has 9 columns as mentioned in the Data Dictionary. Data in each row corresponds to the order placed by a customer."
      ]
    },
    {
      "cell_type": "markdown",
      "metadata": {
        "id": "bKndbICMm6uT"
      },
      "source": [
        "### **Question 1:** How many rows and columns are present in the data? [0.5 mark]"
      ]
    },
    {
      "cell_type": "code",
      "execution_count": null,
      "metadata": {
        "colab": {
          "base_uri": "https://localhost:8080/"
        },
        "id": "ABFUnFLUm6uW",
        "outputId": "5bbdf6bb-3e83-44f3-e0f5-57c90b7c285a"
      },
      "outputs": [
        {
          "output_type": "execute_result",
          "data": {
            "text/plain": [
              "(1898, 9)"
            ]
          },
          "metadata": {},
          "execution_count": 45
        }
      ],
      "source": [
        "# check the shape of the dataset\n",
        "df.shape"
      ]
    },
    {
      "cell_type": "markdown",
      "metadata": {
        "id": "w8G4KUrCm6uX"
      },
      "source": [
        "#### Observations:\n",
        "\n",
        "* The DataFrame has 1898 rows and 9 columns."
      ]
    },
    {
      "cell_type": "markdown",
      "metadata": {
        "id": "KmfVNFUXm6uY"
      },
      "source": [
        "### **Question 2:** What are the datatypes of the different columns in the dataset? (The info() function can be used) [0.5 mark]\n"
      ]
    },
    {
      "cell_type": "code",
      "execution_count": null,
      "metadata": {
        "colab": {
          "base_uri": "https://localhost:8080/"
        },
        "id": "8E_D494tm6uZ",
        "outputId": "20bc7cd4-dc5c-4122-d66a-d68527ec2048"
      },
      "outputs": [
        {
          "output_type": "stream",
          "name": "stdout",
          "text": [
            "<class 'pandas.core.frame.DataFrame'>\n",
            "RangeIndex: 1898 entries, 0 to 1897\n",
            "Data columns (total 9 columns):\n",
            " #   Column                 Non-Null Count  Dtype  \n",
            "---  ------                 --------------  -----  \n",
            " 0   order_id               1898 non-null   int64  \n",
            " 1   customer_id            1898 non-null   int64  \n",
            " 2   restaurant_name        1898 non-null   object \n",
            " 3   cuisine_type           1898 non-null   object \n",
            " 4   cost_of_the_order      1898 non-null   float64\n",
            " 5   day_of_the_week        1898 non-null   object \n",
            " 6   rating                 1898 non-null   object \n",
            " 7   food_preparation_time  1898 non-null   int64  \n",
            " 8   delivery_time          1898 non-null   int64  \n",
            "dtypes: float64(1), int64(4), object(4)\n",
            "memory usage: 133.6+ KB\n"
          ]
        }
      ],
      "source": [
        "# use info() to print a concise summary of the DataFrame\n",
        "df.info()"
      ]
    },
    {
      "cell_type": "markdown",
      "metadata": {
        "id": "ssrSJdMBm6ua"
      },
      "source": [
        "#### Observations:\n",
        "* There are a total of 1898 non-null observations in each of the columns.\n",
        "\n",
        "* The dataset contains 9 columns: 4 are of integer type ('order_id', 'customer_id', 'food_preparation_time', 'delivery_time'), 1 is of floating point type ('cost_of_the_order') and 4 are of the general object type ('restaurant_name', 'cuisine_type', 'day_of_the_week', 'rating').\n",
        "\n",
        "* Total memory usage is approximately 133.6 KB.\n",
        "\n"
      ]
    },
    {
      "cell_type": "markdown",
      "metadata": {
        "id": "JW4_u6TLm6ub"
      },
      "source": [
        "### **Question 3:** Are there any missing values in the data? If yes, treat them using an appropriate method. [1 mark]"
      ]
    },
    {
      "cell_type": "code",
      "execution_count": null,
      "metadata": {
        "colab": {
          "base_uri": "https://localhost:8080/"
        },
        "id": "SYgzlPK_m6uc",
        "outputId": "c9f10c47-d29f-4257-f52d-2fb7e4472433"
      },
      "outputs": [
        {
          "output_type": "execute_result",
          "data": {
            "text/plain": [
              "order_id                 0\n",
              "customer_id              0\n",
              "restaurant_name          0\n",
              "cuisine_type             0\n",
              "cost_of_the_order        0\n",
              "day_of_the_week          0\n",
              "rating                   0\n",
              "food_preparation_time    0\n",
              "delivery_time            0\n",
              "dtype: int64"
            ]
          },
          "metadata": {},
          "execution_count": 47
        }
      ],
      "source": [
        "# Checking for missing values\n",
        "df.isnull().sum()"
      ]
    },
    {
      "cell_type": "code",
      "source": [
        "df.head()"
      ],
      "metadata": {
        "colab": {
          "base_uri": "https://localhost:8080/",
          "height": 206
        },
        "id": "dcFXsbV4J7vH",
        "outputId": "6422ba67-c818-4a01-94cc-4a32201bb32f"
      },
      "execution_count": null,
      "outputs": [
        {
          "output_type": "execute_result",
          "data": {
            "text/plain": [
              "   order_id  customer_id            restaurant_name cuisine_type  \\\n",
              "0   1477147       337525                    Hangawi       Korean   \n",
              "1   1477685       358141  Blue Ribbon Sushi Izakaya     Japanese   \n",
              "2   1477070        66393                Cafe Habana      Mexican   \n",
              "3   1477334       106968  Blue Ribbon Fried Chicken     American   \n",
              "4   1478249        76942           Dirty Bird to Go     American   \n",
              "\n",
              "   cost_of_the_order day_of_the_week     rating  food_preparation_time  \\\n",
              "0              30.75         Weekend  Not given                     25   \n",
              "1              12.08         Weekend  Not given                     25   \n",
              "2              12.23         Weekday          5                     23   \n",
              "3              29.20         Weekend          3                     25   \n",
              "4              11.59         Weekday          4                     25   \n",
              "\n",
              "   delivery_time  \n",
              "0             20  \n",
              "1             23  \n",
              "2             28  \n",
              "3             15  \n",
              "4             24  "
            ],
            "text/html": [
              "\n",
              "  <div id=\"df-6c4f2bf8-5ce1-4b5c-8e09-3c586159c9a3\">\n",
              "    <div class=\"colab-df-container\">\n",
              "      <div>\n",
              "<style scoped>\n",
              "    .dataframe tbody tr th:only-of-type {\n",
              "        vertical-align: middle;\n",
              "    }\n",
              "\n",
              "    .dataframe tbody tr th {\n",
              "        vertical-align: top;\n",
              "    }\n",
              "\n",
              "    .dataframe thead th {\n",
              "        text-align: right;\n",
              "    }\n",
              "</style>\n",
              "<table border=\"1\" class=\"dataframe\">\n",
              "  <thead>\n",
              "    <tr style=\"text-align: right;\">\n",
              "      <th></th>\n",
              "      <th>order_id</th>\n",
              "      <th>customer_id</th>\n",
              "      <th>restaurant_name</th>\n",
              "      <th>cuisine_type</th>\n",
              "      <th>cost_of_the_order</th>\n",
              "      <th>day_of_the_week</th>\n",
              "      <th>rating</th>\n",
              "      <th>food_preparation_time</th>\n",
              "      <th>delivery_time</th>\n",
              "    </tr>\n",
              "  </thead>\n",
              "  <tbody>\n",
              "    <tr>\n",
              "      <th>0</th>\n",
              "      <td>1477147</td>\n",
              "      <td>337525</td>\n",
              "      <td>Hangawi</td>\n",
              "      <td>Korean</td>\n",
              "      <td>30.75</td>\n",
              "      <td>Weekend</td>\n",
              "      <td>Not given</td>\n",
              "      <td>25</td>\n",
              "      <td>20</td>\n",
              "    </tr>\n",
              "    <tr>\n",
              "      <th>1</th>\n",
              "      <td>1477685</td>\n",
              "      <td>358141</td>\n",
              "      <td>Blue Ribbon Sushi Izakaya</td>\n",
              "      <td>Japanese</td>\n",
              "      <td>12.08</td>\n",
              "      <td>Weekend</td>\n",
              "      <td>Not given</td>\n",
              "      <td>25</td>\n",
              "      <td>23</td>\n",
              "    </tr>\n",
              "    <tr>\n",
              "      <th>2</th>\n",
              "      <td>1477070</td>\n",
              "      <td>66393</td>\n",
              "      <td>Cafe Habana</td>\n",
              "      <td>Mexican</td>\n",
              "      <td>12.23</td>\n",
              "      <td>Weekday</td>\n",
              "      <td>5</td>\n",
              "      <td>23</td>\n",
              "      <td>28</td>\n",
              "    </tr>\n",
              "    <tr>\n",
              "      <th>3</th>\n",
              "      <td>1477334</td>\n",
              "      <td>106968</td>\n",
              "      <td>Blue Ribbon Fried Chicken</td>\n",
              "      <td>American</td>\n",
              "      <td>29.20</td>\n",
              "      <td>Weekend</td>\n",
              "      <td>3</td>\n",
              "      <td>25</td>\n",
              "      <td>15</td>\n",
              "    </tr>\n",
              "    <tr>\n",
              "      <th>4</th>\n",
              "      <td>1478249</td>\n",
              "      <td>76942</td>\n",
              "      <td>Dirty Bird to Go</td>\n",
              "      <td>American</td>\n",
              "      <td>11.59</td>\n",
              "      <td>Weekday</td>\n",
              "      <td>4</td>\n",
              "      <td>25</td>\n",
              "      <td>24</td>\n",
              "    </tr>\n",
              "  </tbody>\n",
              "</table>\n",
              "</div>\n",
              "      <button class=\"colab-df-convert\" onclick=\"convertToInteractive('df-6c4f2bf8-5ce1-4b5c-8e09-3c586159c9a3')\"\n",
              "              title=\"Convert this dataframe to an interactive table.\"\n",
              "              style=\"display:none;\">\n",
              "        \n",
              "  <svg xmlns=\"http://www.w3.org/2000/svg\" height=\"24px\"viewBox=\"0 0 24 24\"\n",
              "       width=\"24px\">\n",
              "    <path d=\"M0 0h24v24H0V0z\" fill=\"none\"/>\n",
              "    <path d=\"M18.56 5.44l.94 2.06.94-2.06 2.06-.94-2.06-.94-.94-2.06-.94 2.06-2.06.94zm-11 1L8.5 8.5l.94-2.06 2.06-.94-2.06-.94L8.5 2.5l-.94 2.06-2.06.94zm10 10l.94 2.06.94-2.06 2.06-.94-2.06-.94-.94-2.06-.94 2.06-2.06.94z\"/><path d=\"M17.41 7.96l-1.37-1.37c-.4-.4-.92-.59-1.43-.59-.52 0-1.04.2-1.43.59L10.3 9.45l-7.72 7.72c-.78.78-.78 2.05 0 2.83L4 21.41c.39.39.9.59 1.41.59.51 0 1.02-.2 1.41-.59l7.78-7.78 2.81-2.81c.8-.78.8-2.07 0-2.86zM5.41 20L4 18.59l7.72-7.72 1.47 1.35L5.41 20z\"/>\n",
              "  </svg>\n",
              "      </button>\n",
              "      \n",
              "  <style>\n",
              "    .colab-df-container {\n",
              "      display:flex;\n",
              "      flex-wrap:wrap;\n",
              "      gap: 12px;\n",
              "    }\n",
              "\n",
              "    .colab-df-convert {\n",
              "      background-color: #E8F0FE;\n",
              "      border: none;\n",
              "      border-radius: 50%;\n",
              "      cursor: pointer;\n",
              "      display: none;\n",
              "      fill: #1967D2;\n",
              "      height: 32px;\n",
              "      padding: 0 0 0 0;\n",
              "      width: 32px;\n",
              "    }\n",
              "\n",
              "    .colab-df-convert:hover {\n",
              "      background-color: #E2EBFA;\n",
              "      box-shadow: 0px 1px 2px rgba(60, 64, 67, 0.3), 0px 1px 3px 1px rgba(60, 64, 67, 0.15);\n",
              "      fill: #174EA6;\n",
              "    }\n",
              "\n",
              "    [theme=dark] .colab-df-convert {\n",
              "      background-color: #3B4455;\n",
              "      fill: #D2E3FC;\n",
              "    }\n",
              "\n",
              "    [theme=dark] .colab-df-convert:hover {\n",
              "      background-color: #434B5C;\n",
              "      box-shadow: 0px 1px 3px 1px rgba(0, 0, 0, 0.15);\n",
              "      filter: drop-shadow(0px 1px 2px rgba(0, 0, 0, 0.3));\n",
              "      fill: #FFFFFF;\n",
              "    }\n",
              "  </style>\n",
              "\n",
              "      <script>\n",
              "        const buttonEl =\n",
              "          document.querySelector('#df-6c4f2bf8-5ce1-4b5c-8e09-3c586159c9a3 button.colab-df-convert');\n",
              "        buttonEl.style.display =\n",
              "          google.colab.kernel.accessAllowed ? 'block' : 'none';\n",
              "\n",
              "        async function convertToInteractive(key) {\n",
              "          const element = document.querySelector('#df-6c4f2bf8-5ce1-4b5c-8e09-3c586159c9a3');\n",
              "          const dataTable =\n",
              "            await google.colab.kernel.invokeFunction('convertToInteractive',\n",
              "                                                     [key], {});\n",
              "          if (!dataTable) return;\n",
              "\n",
              "          const docLinkHtml = 'Like what you see? Visit the ' +\n",
              "            '<a target=\"_blank\" href=https://colab.research.google.com/notebooks/data_table.ipynb>data table notebook</a>'\n",
              "            + ' to learn more about interactive tables.';\n",
              "          element.innerHTML = '';\n",
              "          dataTable['output_type'] = 'display_data';\n",
              "          await google.colab.output.renderOutput(dataTable, element);\n",
              "          const docLink = document.createElement('div');\n",
              "          docLink.innerHTML = docLinkHtml;\n",
              "          element.appendChild(docLink);\n",
              "        }\n",
              "      </script>\n",
              "    </div>\n",
              "  </div>\n",
              "  "
            ]
          },
          "metadata": {},
          "execution_count": 48
        }
      ]
    },
    {
      "cell_type": "markdown",
      "metadata": {
        "id": "FI3wLN7Tm6ue"
      },
      "source": [
        "#### Observations:\n",
        "\n",
        "* There are no missing values in the data.\n"
      ]
    },
    {
      "cell_type": "markdown",
      "metadata": {
        "id": "qHHGTJ1Ym6ue"
      },
      "source": [
        "### **Question 4:** Check the statistical summary of the data. What is the minimum, average, and maximum time it takes for food to be prepared once an order is placed? [2 marks]"
      ]
    },
    {
      "cell_type": "code",
      "execution_count": null,
      "metadata": {
        "colab": {
          "base_uri": "https://localhost:8080/",
          "height": 300
        },
        "id": "FM7o6Dqdm6uf",
        "outputId": "bee1c679-d84e-46eb-9640-16f4a21dca4b"
      },
      "outputs": [
        {
          "output_type": "execute_result",
          "data": {
            "text/plain": [
              "           order_id    customer_id  cost_of_the_order  food_preparation_time  \\\n",
              "count  1.898000e+03    1898.000000        1898.000000            1898.000000   \n",
              "mean   1.477496e+06  171168.478398          16.498851              27.371970   \n",
              "std    5.480497e+02  113698.139743           7.483812               4.632481   \n",
              "min    1.476547e+06    1311.000000           4.470000              20.000000   \n",
              "25%    1.477021e+06   77787.750000          12.080000              23.000000   \n",
              "50%    1.477496e+06  128600.000000          14.140000              27.000000   \n",
              "75%    1.477970e+06  270525.000000          22.297500              31.000000   \n",
              "max    1.478444e+06  405334.000000          35.410000              35.000000   \n",
              "\n",
              "       delivery_time  \n",
              "count    1898.000000  \n",
              "mean       24.161749  \n",
              "std         4.972637  \n",
              "min        15.000000  \n",
              "25%        20.000000  \n",
              "50%        25.000000  \n",
              "75%        28.000000  \n",
              "max        33.000000  "
            ],
            "text/html": [
              "\n",
              "  <div id=\"df-e1917e80-7991-485d-8ca0-377c105482b4\">\n",
              "    <div class=\"colab-df-container\">\n",
              "      <div>\n",
              "<style scoped>\n",
              "    .dataframe tbody tr th:only-of-type {\n",
              "        vertical-align: middle;\n",
              "    }\n",
              "\n",
              "    .dataframe tbody tr th {\n",
              "        vertical-align: top;\n",
              "    }\n",
              "\n",
              "    .dataframe thead th {\n",
              "        text-align: right;\n",
              "    }\n",
              "</style>\n",
              "<table border=\"1\" class=\"dataframe\">\n",
              "  <thead>\n",
              "    <tr style=\"text-align: right;\">\n",
              "      <th></th>\n",
              "      <th>order_id</th>\n",
              "      <th>customer_id</th>\n",
              "      <th>cost_of_the_order</th>\n",
              "      <th>food_preparation_time</th>\n",
              "      <th>delivery_time</th>\n",
              "    </tr>\n",
              "  </thead>\n",
              "  <tbody>\n",
              "    <tr>\n",
              "      <th>count</th>\n",
              "      <td>1.898000e+03</td>\n",
              "      <td>1898.000000</td>\n",
              "      <td>1898.000000</td>\n",
              "      <td>1898.000000</td>\n",
              "      <td>1898.000000</td>\n",
              "    </tr>\n",
              "    <tr>\n",
              "      <th>mean</th>\n",
              "      <td>1.477496e+06</td>\n",
              "      <td>171168.478398</td>\n",
              "      <td>16.498851</td>\n",
              "      <td>27.371970</td>\n",
              "      <td>24.161749</td>\n",
              "    </tr>\n",
              "    <tr>\n",
              "      <th>std</th>\n",
              "      <td>5.480497e+02</td>\n",
              "      <td>113698.139743</td>\n",
              "      <td>7.483812</td>\n",
              "      <td>4.632481</td>\n",
              "      <td>4.972637</td>\n",
              "    </tr>\n",
              "    <tr>\n",
              "      <th>min</th>\n",
              "      <td>1.476547e+06</td>\n",
              "      <td>1311.000000</td>\n",
              "      <td>4.470000</td>\n",
              "      <td>20.000000</td>\n",
              "      <td>15.000000</td>\n",
              "    </tr>\n",
              "    <tr>\n",
              "      <th>25%</th>\n",
              "      <td>1.477021e+06</td>\n",
              "      <td>77787.750000</td>\n",
              "      <td>12.080000</td>\n",
              "      <td>23.000000</td>\n",
              "      <td>20.000000</td>\n",
              "    </tr>\n",
              "    <tr>\n",
              "      <th>50%</th>\n",
              "      <td>1.477496e+06</td>\n",
              "      <td>128600.000000</td>\n",
              "      <td>14.140000</td>\n",
              "      <td>27.000000</td>\n",
              "      <td>25.000000</td>\n",
              "    </tr>\n",
              "    <tr>\n",
              "      <th>75%</th>\n",
              "      <td>1.477970e+06</td>\n",
              "      <td>270525.000000</td>\n",
              "      <td>22.297500</td>\n",
              "      <td>31.000000</td>\n",
              "      <td>28.000000</td>\n",
              "    </tr>\n",
              "    <tr>\n",
              "      <th>max</th>\n",
              "      <td>1.478444e+06</td>\n",
              "      <td>405334.000000</td>\n",
              "      <td>35.410000</td>\n",
              "      <td>35.000000</td>\n",
              "      <td>33.000000</td>\n",
              "    </tr>\n",
              "  </tbody>\n",
              "</table>\n",
              "</div>\n",
              "      <button class=\"colab-df-convert\" onclick=\"convertToInteractive('df-e1917e80-7991-485d-8ca0-377c105482b4')\"\n",
              "              title=\"Convert this dataframe to an interactive table.\"\n",
              "              style=\"display:none;\">\n",
              "        \n",
              "  <svg xmlns=\"http://www.w3.org/2000/svg\" height=\"24px\"viewBox=\"0 0 24 24\"\n",
              "       width=\"24px\">\n",
              "    <path d=\"M0 0h24v24H0V0z\" fill=\"none\"/>\n",
              "    <path d=\"M18.56 5.44l.94 2.06.94-2.06 2.06-.94-2.06-.94-.94-2.06-.94 2.06-2.06.94zm-11 1L8.5 8.5l.94-2.06 2.06-.94-2.06-.94L8.5 2.5l-.94 2.06-2.06.94zm10 10l.94 2.06.94-2.06 2.06-.94-2.06-.94-.94-2.06-.94 2.06-2.06.94z\"/><path d=\"M17.41 7.96l-1.37-1.37c-.4-.4-.92-.59-1.43-.59-.52 0-1.04.2-1.43.59L10.3 9.45l-7.72 7.72c-.78.78-.78 2.05 0 2.83L4 21.41c.39.39.9.59 1.41.59.51 0 1.02-.2 1.41-.59l7.78-7.78 2.81-2.81c.8-.78.8-2.07 0-2.86zM5.41 20L4 18.59l7.72-7.72 1.47 1.35L5.41 20z\"/>\n",
              "  </svg>\n",
              "      </button>\n",
              "      \n",
              "  <style>\n",
              "    .colab-df-container {\n",
              "      display:flex;\n",
              "      flex-wrap:wrap;\n",
              "      gap: 12px;\n",
              "    }\n",
              "\n",
              "    .colab-df-convert {\n",
              "      background-color: #E8F0FE;\n",
              "      border: none;\n",
              "      border-radius: 50%;\n",
              "      cursor: pointer;\n",
              "      display: none;\n",
              "      fill: #1967D2;\n",
              "      height: 32px;\n",
              "      padding: 0 0 0 0;\n",
              "      width: 32px;\n",
              "    }\n",
              "\n",
              "    .colab-df-convert:hover {\n",
              "      background-color: #E2EBFA;\n",
              "      box-shadow: 0px 1px 2px rgba(60, 64, 67, 0.3), 0px 1px 3px 1px rgba(60, 64, 67, 0.15);\n",
              "      fill: #174EA6;\n",
              "    }\n",
              "\n",
              "    [theme=dark] .colab-df-convert {\n",
              "      background-color: #3B4455;\n",
              "      fill: #D2E3FC;\n",
              "    }\n",
              "\n",
              "    [theme=dark] .colab-df-convert:hover {\n",
              "      background-color: #434B5C;\n",
              "      box-shadow: 0px 1px 3px 1px rgba(0, 0, 0, 0.15);\n",
              "      filter: drop-shadow(0px 1px 2px rgba(0, 0, 0, 0.3));\n",
              "      fill: #FFFFFF;\n",
              "    }\n",
              "  </style>\n",
              "\n",
              "      <script>\n",
              "        const buttonEl =\n",
              "          document.querySelector('#df-e1917e80-7991-485d-8ca0-377c105482b4 button.colab-df-convert');\n",
              "        buttonEl.style.display =\n",
              "          google.colab.kernel.accessAllowed ? 'block' : 'none';\n",
              "\n",
              "        async function convertToInteractive(key) {\n",
              "          const element = document.querySelector('#df-e1917e80-7991-485d-8ca0-377c105482b4');\n",
              "          const dataTable =\n",
              "            await google.colab.kernel.invokeFunction('convertToInteractive',\n",
              "                                                     [key], {});\n",
              "          if (!dataTable) return;\n",
              "\n",
              "          const docLinkHtml = 'Like what you see? Visit the ' +\n",
              "            '<a target=\"_blank\" href=https://colab.research.google.com/notebooks/data_table.ipynb>data table notebook</a>'\n",
              "            + ' to learn more about interactive tables.';\n",
              "          element.innerHTML = '';\n",
              "          dataTable['output_type'] = 'display_data';\n",
              "          await google.colab.output.renderOutput(dataTable, element);\n",
              "          const docLink = document.createElement('div');\n",
              "          docLink.innerHTML = docLinkHtml;\n",
              "          element.appendChild(docLink);\n",
              "        }\n",
              "      </script>\n",
              "    </div>\n",
              "  </div>\n",
              "  "
            ]
          },
          "metadata": {},
          "execution_count": 49
        }
      ],
      "source": [
        "# get the summary statistics of the numerical data\n",
        "df.describe()"
      ]
    },
    {
      "cell_type": "code",
      "source": [
        "#--Convert from scientific to non-scientific\n",
        "pd.set_option('display.float_format', lambda x: '%.2f' % x)\n",
        "df.describe().T\n",
        "\n",
        "#--pd.set_option is not mandatory, it just helps with readability--#"
      ],
      "metadata": {
        "colab": {
          "base_uri": "https://localhost:8080/",
          "height": 206
        },
        "id": "KdSS-M_f40cB",
        "outputId": "69970227-cf74-44c6-eed7-28284cad37a3"
      },
      "execution_count": null,
      "outputs": [
        {
          "output_type": "execute_result",
          "data": {
            "text/plain": [
              "                        count       mean       std        min        25%  \\\n",
              "order_id              1898.00 1477495.50    548.05 1476547.00 1477021.25   \n",
              "customer_id           1898.00  171168.48 113698.14    1311.00   77787.75   \n",
              "cost_of_the_order     1898.00      16.50      7.48       4.47      12.08   \n",
              "food_preparation_time 1898.00      27.37      4.63      20.00      23.00   \n",
              "delivery_time         1898.00      24.16      4.97      15.00      20.00   \n",
              "\n",
              "                             50%        75%        max  \n",
              "order_id              1477495.50 1477969.75 1478444.00  \n",
              "customer_id            128600.00  270525.00  405334.00  \n",
              "cost_of_the_order          14.14      22.30      35.41  \n",
              "food_preparation_time      27.00      31.00      35.00  \n",
              "delivery_time              25.00      28.00      33.00  "
            ],
            "text/html": [
              "\n",
              "  <div id=\"df-587a1573-ea95-480b-8038-931d0462dcd7\">\n",
              "    <div class=\"colab-df-container\">\n",
              "      <div>\n",
              "<style scoped>\n",
              "    .dataframe tbody tr th:only-of-type {\n",
              "        vertical-align: middle;\n",
              "    }\n",
              "\n",
              "    .dataframe tbody tr th {\n",
              "        vertical-align: top;\n",
              "    }\n",
              "\n",
              "    .dataframe thead th {\n",
              "        text-align: right;\n",
              "    }\n",
              "</style>\n",
              "<table border=\"1\" class=\"dataframe\">\n",
              "  <thead>\n",
              "    <tr style=\"text-align: right;\">\n",
              "      <th></th>\n",
              "      <th>count</th>\n",
              "      <th>mean</th>\n",
              "      <th>std</th>\n",
              "      <th>min</th>\n",
              "      <th>25%</th>\n",
              "      <th>50%</th>\n",
              "      <th>75%</th>\n",
              "      <th>max</th>\n",
              "    </tr>\n",
              "  </thead>\n",
              "  <tbody>\n",
              "    <tr>\n",
              "      <th>order_id</th>\n",
              "      <td>1898.00</td>\n",
              "      <td>1477495.50</td>\n",
              "      <td>548.05</td>\n",
              "      <td>1476547.00</td>\n",
              "      <td>1477021.25</td>\n",
              "      <td>1477495.50</td>\n",
              "      <td>1477969.75</td>\n",
              "      <td>1478444.00</td>\n",
              "    </tr>\n",
              "    <tr>\n",
              "      <th>customer_id</th>\n",
              "      <td>1898.00</td>\n",
              "      <td>171168.48</td>\n",
              "      <td>113698.14</td>\n",
              "      <td>1311.00</td>\n",
              "      <td>77787.75</td>\n",
              "      <td>128600.00</td>\n",
              "      <td>270525.00</td>\n",
              "      <td>405334.00</td>\n",
              "    </tr>\n",
              "    <tr>\n",
              "      <th>cost_of_the_order</th>\n",
              "      <td>1898.00</td>\n",
              "      <td>16.50</td>\n",
              "      <td>7.48</td>\n",
              "      <td>4.47</td>\n",
              "      <td>12.08</td>\n",
              "      <td>14.14</td>\n",
              "      <td>22.30</td>\n",
              "      <td>35.41</td>\n",
              "    </tr>\n",
              "    <tr>\n",
              "      <th>food_preparation_time</th>\n",
              "      <td>1898.00</td>\n",
              "      <td>27.37</td>\n",
              "      <td>4.63</td>\n",
              "      <td>20.00</td>\n",
              "      <td>23.00</td>\n",
              "      <td>27.00</td>\n",
              "      <td>31.00</td>\n",
              "      <td>35.00</td>\n",
              "    </tr>\n",
              "    <tr>\n",
              "      <th>delivery_time</th>\n",
              "      <td>1898.00</td>\n",
              "      <td>24.16</td>\n",
              "      <td>4.97</td>\n",
              "      <td>15.00</td>\n",
              "      <td>20.00</td>\n",
              "      <td>25.00</td>\n",
              "      <td>28.00</td>\n",
              "      <td>33.00</td>\n",
              "    </tr>\n",
              "  </tbody>\n",
              "</table>\n",
              "</div>\n",
              "      <button class=\"colab-df-convert\" onclick=\"convertToInteractive('df-587a1573-ea95-480b-8038-931d0462dcd7')\"\n",
              "              title=\"Convert this dataframe to an interactive table.\"\n",
              "              style=\"display:none;\">\n",
              "        \n",
              "  <svg xmlns=\"http://www.w3.org/2000/svg\" height=\"24px\"viewBox=\"0 0 24 24\"\n",
              "       width=\"24px\">\n",
              "    <path d=\"M0 0h24v24H0V0z\" fill=\"none\"/>\n",
              "    <path d=\"M18.56 5.44l.94 2.06.94-2.06 2.06-.94-2.06-.94-.94-2.06-.94 2.06-2.06.94zm-11 1L8.5 8.5l.94-2.06 2.06-.94-2.06-.94L8.5 2.5l-.94 2.06-2.06.94zm10 10l.94 2.06.94-2.06 2.06-.94-2.06-.94-.94-2.06-.94 2.06-2.06.94z\"/><path d=\"M17.41 7.96l-1.37-1.37c-.4-.4-.92-.59-1.43-.59-.52 0-1.04.2-1.43.59L10.3 9.45l-7.72 7.72c-.78.78-.78 2.05 0 2.83L4 21.41c.39.39.9.59 1.41.59.51 0 1.02-.2 1.41-.59l7.78-7.78 2.81-2.81c.8-.78.8-2.07 0-2.86zM5.41 20L4 18.59l7.72-7.72 1.47 1.35L5.41 20z\"/>\n",
              "  </svg>\n",
              "      </button>\n",
              "      \n",
              "  <style>\n",
              "    .colab-df-container {\n",
              "      display:flex;\n",
              "      flex-wrap:wrap;\n",
              "      gap: 12px;\n",
              "    }\n",
              "\n",
              "    .colab-df-convert {\n",
              "      background-color: #E8F0FE;\n",
              "      border: none;\n",
              "      border-radius: 50%;\n",
              "      cursor: pointer;\n",
              "      display: none;\n",
              "      fill: #1967D2;\n",
              "      height: 32px;\n",
              "      padding: 0 0 0 0;\n",
              "      width: 32px;\n",
              "    }\n",
              "\n",
              "    .colab-df-convert:hover {\n",
              "      background-color: #E2EBFA;\n",
              "      box-shadow: 0px 1px 2px rgba(60, 64, 67, 0.3), 0px 1px 3px 1px rgba(60, 64, 67, 0.15);\n",
              "      fill: #174EA6;\n",
              "    }\n",
              "\n",
              "    [theme=dark] .colab-df-convert {\n",
              "      background-color: #3B4455;\n",
              "      fill: #D2E3FC;\n",
              "    }\n",
              "\n",
              "    [theme=dark] .colab-df-convert:hover {\n",
              "      background-color: #434B5C;\n",
              "      box-shadow: 0px 1px 3px 1px rgba(0, 0, 0, 0.15);\n",
              "      filter: drop-shadow(0px 1px 2px rgba(0, 0, 0, 0.3));\n",
              "      fill: #FFFFFF;\n",
              "    }\n",
              "  </style>\n",
              "\n",
              "      <script>\n",
              "        const buttonEl =\n",
              "          document.querySelector('#df-587a1573-ea95-480b-8038-931d0462dcd7 button.colab-df-convert');\n",
              "        buttonEl.style.display =\n",
              "          google.colab.kernel.accessAllowed ? 'block' : 'none';\n",
              "\n",
              "        async function convertToInteractive(key) {\n",
              "          const element = document.querySelector('#df-587a1573-ea95-480b-8038-931d0462dcd7');\n",
              "          const dataTable =\n",
              "            await google.colab.kernel.invokeFunction('convertToInteractive',\n",
              "                                                     [key], {});\n",
              "          if (!dataTable) return;\n",
              "\n",
              "          const docLinkHtml = 'Like what you see? Visit the ' +\n",
              "            '<a target=\"_blank\" href=https://colab.research.google.com/notebooks/data_table.ipynb>data table notebook</a>'\n",
              "            + ' to learn more about interactive tables.';\n",
              "          element.innerHTML = '';\n",
              "          dataTable['output_type'] = 'display_data';\n",
              "          await google.colab.output.renderOutput(dataTable, element);\n",
              "          const docLink = document.createElement('div');\n",
              "          docLink.innerHTML = docLinkHtml;\n",
              "          element.appendChild(docLink);\n",
              "        }\n",
              "      </script>\n",
              "    </div>\n",
              "  </div>\n",
              "  "
            ]
          },
          "metadata": {},
          "execution_count": 50
        }
      ]
    },
    {
      "cell_type": "markdown",
      "metadata": {
        "id": "sH5NPhRim6ug"
      },
      "source": [
        "#### Observations:\n",
        "\n",
        "* Order ID and Customer ID are just identifiers for each order.\n",
        "\n",
        "* The cost of an order ranges from 4.47 to 35.41 dollars, with an average order costing around 16 dollars and a standard deviation of 7.5 dollars. The cost of 75% of the orders are below 23 dollars. This indicates that most of the customers prefer low-cost food compared to the expensive ones.\n",
        "\n",
        "* Food preparation time ranges from 20 to 35 minutes, with an average of around 27 minutes and a standard deviation of 4.6 minutes. The spread is not very high for the food preparation time.\n",
        "\n",
        "* Delivery time ranges from 15 to 33 minutes, with an average of around 24 minutes and a standard deviation of 5 minutes. The spread is not too high for delivery time either.\n"
      ]
    },
    {
      "cell_type": "markdown",
      "metadata": {
        "id": "q14hu2PHm6uh"
      },
      "source": [
        "### **Question 5:** How many orders are not rated? [1 mark]"
      ]
    },
    {
      "cell_type": "code",
      "execution_count": null,
      "metadata": {
        "colab": {
          "base_uri": "https://localhost:8080/"
        },
        "id": "AvNS2O7Dm6ui",
        "outputId": "bb518b90-d35f-4aef-e956-13c46ac195d0"
      },
      "outputs": [
        {
          "output_type": "execute_result",
          "data": {
            "text/plain": [
              "Not given    736\n",
              "5            588\n",
              "4            386\n",
              "3            188\n",
              "Name: rating, dtype: int64"
            ]
          },
          "metadata": {},
          "execution_count": 51
        }
      ],
      "source": [
        "df['rating'].value_counts()"
      ]
    },
    {
      "cell_type": "code",
      "source": [
        "#--Alternate solution\n",
        "#--Filter the data and get a count\n",
        "df_not_rated = df[df['rating'] == 'Not given']\n",
        "df_not_rated.shape"
      ],
      "metadata": {
        "colab": {
          "base_uri": "https://localhost:8080/"
        },
        "id": "YaaXebUE5uYN",
        "outputId": "65946e25-4757-4313-864d-bb06ee100884"
      },
      "execution_count": null,
      "outputs": [
        {
          "output_type": "execute_result",
          "data": {
            "text/plain": [
              "(736, 9)"
            ]
          },
          "metadata": {},
          "execution_count": 27
        }
      ]
    },
    {
      "cell_type": "code",
      "source": [
        "df[(df['rating'] == 'Not given')]['rating'].value_counts()"
      ],
      "metadata": {
        "colab": {
          "base_uri": "https://localhost:8080/"
        },
        "id": "Xt07f4izMhtc",
        "outputId": "36e9c887-ea9e-4857-cb06-b6f9855fe5f2"
      },
      "execution_count": null,
      "outputs": [
        {
          "output_type": "execute_result",
          "data": {
            "text/plain": [
              "Not given    736\n",
              "Name: rating, dtype: int64"
            ]
          },
          "metadata": {},
          "execution_count": 52
        }
      ]
    },
    {
      "cell_type": "markdown",
      "metadata": {
        "id": "xvu97iNnm6ul"
      },
      "source": [
        "#### Observations:\n",
        "\n",
        "* There are 736 orders that are not rated."
      ]
    },
    {
      "cell_type": "markdown",
      "metadata": {
        "id": "yzg6ATCym6um"
      },
      "source": [
        "### Exploratory Data Analysis (EDA)"
      ]
    },
    {
      "cell_type": "markdown",
      "metadata": {
        "id": "f7GPrL1Rm6um"
      },
      "source": [
        "### Univariate Analysis"
      ]
    },
    {
      "cell_type": "markdown",
      "metadata": {
        "id": "lob6SN0-m6um"
      },
      "source": [
        "### **Question 6:** Explore all the variables and provide observations on their distributions. (Generally, histograms, boxplots, countplots, etc. are used for univariate exploration.) [9 marks]"
      ]
    },
    {
      "cell_type": "markdown",
      "metadata": {
        "id": "QxRmA1Dlm6uo"
      },
      "source": [
        "#### Order ID"
      ]
    },
    {
      "cell_type": "code",
      "execution_count": null,
      "metadata": {
        "colab": {
          "base_uri": "https://localhost:8080/"
        },
        "id": "E6fHbnxAm6up",
        "outputId": "1aa296f0-30e3-48bb-f1f5-8cfb97b22f4b"
      },
      "outputs": [
        {
          "output_type": "execute_result",
          "data": {
            "text/plain": [
              "1898"
            ]
          },
          "metadata": {},
          "execution_count": 53
        }
      ],
      "source": [
        "# check unique order ID\n",
        "df['order_id'].nunique()"
      ]
    },
    {
      "cell_type": "markdown",
      "metadata": {
        "id": "bsH_wVFXm6uq"
      },
      "source": [
        "#### Observations:\n",
        "\n",
        "* There are 1898 unique orders. As mentioned earlier, 'order_id' is just an identifier for the orders."
      ]
    },
    {
      "cell_type": "markdown",
      "metadata": {
        "id": "9xxcztlUm6ur"
      },
      "source": [
        "#### Customer ID"
      ]
    },
    {
      "cell_type": "code",
      "execution_count": null,
      "metadata": {
        "colab": {
          "base_uri": "https://localhost:8080/"
        },
        "id": "fMd9JEQTm6us",
        "outputId": "a94aec89-5683-4869-8b95-8dfc848888d8"
      },
      "outputs": [
        {
          "output_type": "execute_result",
          "data": {
            "text/plain": [
              "1200"
            ]
          },
          "metadata": {},
          "execution_count": 54
        }
      ],
      "source": [
        "# check unique customer ID\n",
        "df['customer_id'].nunique()"
      ]
    },
    {
      "cell_type": "markdown",
      "metadata": {
        "id": "pZPTwJQOm6ut"
      },
      "source": [
        "#### Observations:\n",
        "\n",
        "* There are 1200 unique customers. As 'customer_id' is a variable to identify customers, and the number of unique customer IDs is less than the number of unique order IDs, we can see that there are some customers who have placed more than one order.\n"
      ]
    },
    {
      "cell_type": "markdown",
      "metadata": {
        "id": "Dl9_86Kcm6uv"
      },
      "source": [
        "#### Restaurant name"
      ]
    },
    {
      "cell_type": "code",
      "execution_count": null,
      "metadata": {
        "colab": {
          "base_uri": "https://localhost:8080/"
        },
        "id": "a4oxvHgom6uv",
        "outputId": "5d7c0738-6229-407c-af9d-bb8fee61f02a",
        "scrolled": true
      },
      "outputs": [
        {
          "output_type": "execute_result",
          "data": {
            "text/plain": [
              "178"
            ]
          },
          "metadata": {},
          "execution_count": 55
        }
      ],
      "source": [
        "# check unique restaurant name\n",
        "df['restaurant_name'].nunique()"
      ]
    },
    {
      "cell_type": "markdown",
      "metadata": {
        "id": "xcvccdmom6uw"
      },
      "source": [
        "#### Observations:\n",
        "\n",
        "* There are 178 unique restaurants in the dataset.\n",
        "\n",
        "* Let's check the number of orders that get served by the restaurants."
      ]
    },
    {
      "cell_type": "code",
      "execution_count": null,
      "metadata": {
        "colab": {
          "base_uri": "https://localhost:8080/"
        },
        "id": "9wpt9Wcym6uw",
        "outputId": "307a7854-4d32-43bd-a9b8-b0b052f2b403",
        "scrolled": true
      },
      "outputs": [
        {
          "output_type": "execute_result",
          "data": {
            "text/plain": [
              "Shake Shack                  219\n",
              "The Meatball Shop            132\n",
              "Blue Ribbon Sushi            119\n",
              "Blue Ribbon Fried Chicken     96\n",
              "Parm                          68\n",
              "                            ... \n",
              "Sushi Choshi                   1\n",
              "Dos Caminos Soho               1\n",
              "La Follia                      1\n",
              "Philippe Chow                  1\n",
              "'wichcraft                     1\n",
              "Name: restaurant_name, Length: 178, dtype: int64"
            ]
          },
          "metadata": {},
          "execution_count": 56
        }
      ],
      "source": [
        "df['restaurant_name'].value_counts()"
      ]
    },
    {
      "cell_type": "code",
      "source": [
        "df['restaurant_name'].value_counts(normalize = True)"
      ],
      "metadata": {
        "colab": {
          "base_uri": "https://localhost:8080/"
        },
        "id": "9rgG-Pe-Oxzl",
        "outputId": "8669afc6-3951-4458-d12b-3c600d1ba41c"
      },
      "execution_count": null,
      "outputs": [
        {
          "output_type": "execute_result",
          "data": {
            "text/plain": [
              "Shake Shack                 0.12\n",
              "The Meatball Shop           0.07\n",
              "Blue Ribbon Sushi           0.06\n",
              "Blue Ribbon Fried Chicken   0.05\n",
              "Parm                        0.04\n",
              "                            ... \n",
              "Sushi Choshi                0.00\n",
              "Dos Caminos Soho            0.00\n",
              "La Follia                   0.00\n",
              "Philippe Chow               0.00\n",
              "'wichcraft                  0.00\n",
              "Name: restaurant_name, Length: 178, dtype: float64"
            ]
          },
          "metadata": {},
          "execution_count": 57
        }
      ]
    },
    {
      "cell_type": "code",
      "source": [
        "#--Alternate solution---#\n",
        "#--Use groupby\n",
        "df.groupby('restaurant_name')['restaurant_name'].count().sort_values(ascending = False)"
      ],
      "metadata": {
        "colab": {
          "base_uri": "https://localhost:8080/"
        },
        "id": "9rnRT4q_6eFL",
        "outputId": "e5a403f1-2629-46b5-f9bd-a3d098f96592"
      },
      "execution_count": null,
      "outputs": [
        {
          "output_type": "execute_result",
          "data": {
            "text/plain": [
              "restaurant_name\n",
              "Shake Shack                  219\n",
              "The Meatball Shop            132\n",
              "Blue Ribbon Sushi            119\n",
              "Blue Ribbon Fried Chicken     96\n",
              "Parm                          68\n",
              "                            ... \n",
              "Klong                          1\n",
              "Kambi Ramen House              1\n",
              "Il Bambino                     1\n",
              "Hunan Manor                    1\n",
              "Lamarca Pasta                  1\n",
              "Name: restaurant_name, Length: 178, dtype: int64"
            ]
          },
          "metadata": {},
          "execution_count": 30
        }
      ]
    },
    {
      "cell_type": "markdown",
      "metadata": {
        "id": "S7ENUfnzm6ux"
      },
      "source": [
        "#### Observations:\n",
        "\n",
        "* The restaurant that has received maximum number of orders is Shake Shack"
      ]
    },
    {
      "cell_type": "markdown",
      "metadata": {
        "id": "ZJTahAixm6ux"
      },
      "source": [
        "#### Cuisine type"
      ]
    },
    {
      "cell_type": "code",
      "execution_count": null,
      "metadata": {
        "colab": {
          "base_uri": "https://localhost:8080/"
        },
        "id": "I05yrPIpm6ux",
        "outputId": "1ab5c2e9-7ba5-494a-e197-fd4c084fc92d"
      },
      "outputs": [
        {
          "output_type": "execute_result",
          "data": {
            "text/plain": [
              "14"
            ]
          },
          "metadata": {},
          "execution_count": 58
        }
      ],
      "source": [
        "# check unique cuisine type\n",
        "df['cuisine_type'].nunique()"
      ]
    },
    {
      "cell_type": "code",
      "execution_count": null,
      "metadata": {
        "colab": {
          "base_uri": "https://localhost:8080/",
          "height": 335
        },
        "id": "jOlVj3dAm6uy",
        "outputId": "b74828fd-4079-4ffe-c3ba-54f64149ed87",
        "scrolled": true
      },
      "outputs": [
        {
          "output_type": "display_data",
          "data": {
            "text/plain": [
              "<Figure size 1080x360 with 1 Axes>"
            ],
            "image/png": "[encoded data removed]"
          },
          "metadata": {
            "needs_background": "light"
          }
        }
      ],
      "source": [
        "plt.figure(figsize = (15,5))\n",
        "sns.countplot(data = df, x = 'cuisine_type');"
      ]
    },
    {
      "cell_type": "code",
      "source": [
        "#--Sort the plot\n",
        "plt.figure(figsize = (15,5))\n",
        "sns.countplot(data = df, x = 'cuisine_type', order = df['cuisine_type'].value_counts().index);"
      ],
      "metadata": {
        "colab": {
          "base_uri": "https://localhost:8080/",
          "height": 280
        },
        "id": "r6RzGsLe4PJt",
        "outputId": "09a5948e-48a5-49be-a875-7e24517185c2"
      },
      "execution_count": null,
      "outputs": [
        {
          "output_type": "display_data",
          "data": {
            "text/plain": [
              "<Figure size 432x288 with 1 Axes>"
            ],
            "image/png": "[encoded data removed]"
          },
          "metadata": {
            "needs_background": "light"
          }
        }
      ]
    },
    {
      "cell_type": "markdown",
      "metadata": {
        "id": "FRutqEonm6uy"
      },
      "source": [
        "#### Observations:\n",
        "\n",
        "* There are 14 unique cuisines in the dataset.\n",
        "\n",
        "* The distribution of cuisine types show that cuisine types are not equally distributed.\n",
        "\n",
        "* The most frequent cuisine type is American followed by Japanese and Italian.\n",
        "\n",
        "* Vietnamese appears to be the least popular of all the cuisines."
      ]
    },
    {
      "cell_type": "markdown",
      "metadata": {
        "id": "aWzztbuXm6uy"
      },
      "source": [
        "#### Cost of the order"
      ]
    },
    {
      "cell_type": "code",
      "execution_count": null,
      "metadata": {
        "colab": {
          "base_uri": "https://localhost:8080/",
          "height": 543
        },
        "id": "DKK6Y_oKm6uz",
        "outputId": "2879e494-c722-4c20-bc70-aec20adfda0a",
        "scrolled": false
      },
      "outputs": [
        {
          "output_type": "display_data",
          "data": {
            "text/plain": [
              "<Figure size 432x288 with 1 Axes>"
            ],
            "image/png": "[encoded data removed]"
          },
          "metadata": {
            "needs_background": "light"
          }
        },
        {
          "output_type": "display_data",
          "data": {
            "text/plain": [
              "<Figure size 432x288 with 1 Axes>"
            ],
            "image/png": "[encoded data removed]"
          },
          "metadata": {
            "needs_background": "light"
          }
        }
      ],
      "source": [
        "sns.histplot(data=df,x='cost_of_the_order')\n",
        "plt.show()\n",
        "sns.boxplot(data=df,x='cost_of_the_order')\n",
        "plt.show()"
      ]
    },
    {
      "cell_type": "markdown",
      "metadata": {
        "id": "Qv-nWX3Lm6uz"
      },
      "source": [
        "#### Observations:\n",
        "\n",
        "* The average cost of the order is greater than the median cost indicating that the distribution for the cost of the order is right-skewed.\n",
        "\n",
        "* The mode of the distribution indicates that a large chunk of people prefer to order food that costs around 10-12 dollars.\n",
        "\n",
        "* There are few orders that cost greater than 30 dollars. These orders might be for some expensive meals."
      ]
    },
    {
      "cell_type": "markdown",
      "metadata": {
        "id": "ghzjGDa0m6u0"
      },
      "source": [
        "#### Day of the week"
      ]
    },
    {
      "cell_type": "code",
      "execution_count": null,
      "metadata": {
        "colab": {
          "base_uri": "https://localhost:8080/"
        },
        "id": "08o3dgUum6u0",
        "outputId": "228eefb8-fabb-4f81-cf46-bbd2fbe62d6e"
      },
      "outputs": [
        {
          "output_type": "execute_result",
          "data": {
            "text/plain": [
              "Weekend    1351\n",
              "Weekday     547\n",
              "Name: day_of_the_week, dtype: int64"
            ]
          },
          "metadata": {},
          "execution_count": 61
        }
      ],
      "source": [
        "# check the unique values\n",
        "df['day_of_the_week'].value_counts()"
      ]
    },
    {
      "cell_type": "code",
      "execution_count": null,
      "metadata": {
        "colab": {
          "base_uri": "https://localhost:8080/",
          "height": 298
        },
        "id": "i9cR6RH9m6u0",
        "outputId": "1874848f-005f-48b8-a4a8-fe40a7cfe3f0",
        "scrolled": false
      },
      "outputs": [
        {
          "output_type": "execute_result",
          "data": {
            "text/plain": [
              "<AxesSubplot:xlabel='day_of_the_week', ylabel='count'>"
            ]
          },
          "metadata": {},
          "execution_count": 62
        },
        {
          "output_type": "display_data",
          "data": {
            "text/plain": [
              "<Figure size 432x288 with 1 Axes>"
            ],
            "image/png": "[encoded data removed]"
          },
          "metadata": {
            "needs_background": "light"
          }
        }
      ],
      "source": [
        "sns.countplot(data = df, x = 'day_of_the_week')"
      ]
    },
    {
      "cell_type": "markdown",
      "metadata": {
        "id": "WG1N1d_jm6u1"
      },
      "source": [
        "#### Observations:\n",
        "\n",
        "* The 'day_of_the_week' columns consists of 2 unique values - Weekday and Weekend\n",
        "* The distribution shows that number of order placed on weekends is approximately double the number of orders placed on weekdays."
      ]
    },
    {
      "cell_type": "markdown",
      "metadata": {
        "id": "RI6-QZoxm6u1"
      },
      "source": [
        "#### Rating"
      ]
    },
    {
      "cell_type": "code",
      "execution_count": null,
      "metadata": {
        "colab": {
          "base_uri": "https://localhost:8080/"
        },
        "id": "ip72Bz6am6u2",
        "outputId": "b44cd386-d4e9-4a4b-ded4-e41a01c3b3dc",
        "scrolled": true
      },
      "outputs": [
        {
          "output_type": "execute_result",
          "data": {
            "text/plain": [
              "Not given    736\n",
              "5            588\n",
              "4            386\n",
              "3            188\n",
              "Name: rating, dtype: int64"
            ]
          },
          "metadata": {},
          "execution_count": 63
        }
      ],
      "source": [
        "# check the unique values\n",
        "df['rating'].value_counts()"
      ]
    },
    {
      "cell_type": "code",
      "execution_count": null,
      "metadata": {
        "colab": {
          "base_uri": "https://localhost:8080/",
          "height": 296
        },
        "id": "nrdcjvwzm6u2",
        "outputId": "00620b4f-d771-4f04-af86-60211ea8189b",
        "scrolled": true
      },
      "outputs": [
        {
          "output_type": "execute_result",
          "data": {
            "text/plain": [
              "<AxesSubplot:xlabel='rating', ylabel='count'>"
            ]
          },
          "metadata": {},
          "execution_count": 64
        },
        {
          "output_type": "display_data",
          "data": {
            "text/plain": [
              "<Figure size 432x288 with 1 Axes>"
            ],
            "image/png": "[encoded data removed]"
          },
          "metadata": {
            "needs_background": "light"
          }
        }
      ],
      "source": [
        "sns.countplot(data = df, x = 'rating')"
      ]
    },
    {
      "cell_type": "markdown",
      "metadata": {
        "id": "SF_LiBinm6u2"
      },
      "source": [
        "#### Observations:\n",
        "\n",
        "* The distribution of 'rating' shows that the most frequent rating category is 'not given', followed by a rating of 5.\n",
        "\n",
        "* Only around 200 orders have been rated 3."
      ]
    },
    {
      "cell_type": "markdown",
      "metadata": {
        "id": "ZJuvXVbGm6u3"
      },
      "source": [
        "#### Food Preparation time"
      ]
    },
    {
      "cell_type": "code",
      "execution_count": null,
      "metadata": {
        "colab": {
          "base_uri": "https://localhost:8080/",
          "height": 543
        },
        "id": "7xyOp7kim6u3",
        "outputId": "2d66aa4e-8a00-488b-d636-b9abf7ef9a64",
        "scrolled": false
      },
      "outputs": [
        {
          "output_type": "display_data",
          "data": {
            "text/plain": [
              "<Figure size 432x288 with 1 Axes>"
            ],
            "image/png": "[encoded data removed]"
          },
          "metadata": {
            "needs_background": "light"
          }
        },
        {
          "output_type": "display_data",
          "data": {
            "text/plain": [
              "<Figure size 432x288 with 1 Axes>"
            ],
            "image/png": "[encoded data removed]"
          },
          "metadata": {
            "needs_background": "light"
          }
        }
      ],
      "source": [
        "sns.histplot(data=df,x='food_preparation_time')\n",
        "plt.show()\n",
        "sns.boxplot(data=df,x='food_preparation_time')\n",
        "plt.show()"
      ]
    },
    {
      "cell_type": "markdown",
      "metadata": {
        "id": "nZ3bkcL1m6u3"
      },
      "source": [
        "#### Observations:\n",
        "\n",
        "* The average food preparation time is almost equal to the median food preparation time indicating that the distribution is nearly symmetrical.\n",
        "\n",
        "* The food preparation time is pretty evenly distributed between 20 and 35 minutes.\n",
        "\n",
        "* There are no outliers in this column."
      ]
    },
    {
      "cell_type": "markdown",
      "metadata": {
        "id": "dJcMf-HIm6u4"
      },
      "source": [
        "#### Delivery time"
      ]
    },
    {
      "cell_type": "code",
      "execution_count": null,
      "metadata": {
        "colab": {
          "base_uri": "https://localhost:8080/",
          "height": 543
        },
        "id": "NcDHhNk8m6u4",
        "outputId": "d3307a47-2cf9-47d7-c40d-f30797a6fd4b",
        "scrolled": false
      },
      "outputs": [
        {
          "output_type": "display_data",
          "data": {
            "text/plain": [
              "<Figure size 432x288 with 1 Axes>"
            ],
            "image/png": "[encoded data removed]"
          },
          "metadata": {
            "needs_background": "light"
          }
        },
        {
          "output_type": "display_data",
          "data": {
            "text/plain": [
              "<Figure size 432x288 with 1 Axes>"
            ],
            "image/png": "[encoded data removed]"
          },
          "metadata": {
            "needs_background": "light"
          }
        }
      ],
      "source": [
        "sns.histplot(data=df,x='delivery_time')\n",
        "plt.show()\n",
        "sns.boxplot(data=df,x='delivery_time')\n",
        "plt.show()"
      ]
    },
    {
      "cell_type": "markdown",
      "metadata": {
        "id": "_bmflrvLm6u4"
      },
      "source": [
        "#### Observations:\n",
        "\n",
        "* The average delivery time is a bit smaller than the median delivery time indicating that the distribution is a bit left-skewed.\n",
        "\n",
        "* Comparatively more number of orders have delivery time between 24 and 30 minutes.\n",
        "\n",
        "* There are no outliers in this column."
      ]
    },
    {
      "cell_type": "markdown",
      "metadata": {
        "id": "PYWJ9hw4m6u5"
      },
      "source": [
        "### **Question 7:** Which are the top 5 restaurants in terms of the number of orders received? [1 mark]"
      ]
    },
    {
      "cell_type": "code",
      "execution_count": null,
      "metadata": {
        "colab": {
          "base_uri": "https://localhost:8080/"
        },
        "id": "75v9LWFYm6u5",
        "outputId": "aa2c3de4-fc54-40e1-dc38-2e8bf62ba383"
      },
      "outputs": [
        {
          "output_type": "execute_result",
          "data": {
            "text/plain": [
              "Shake Shack                  219\n",
              "The Meatball Shop            132\n",
              "Blue Ribbon Sushi            119\n",
              "Blue Ribbon Fried Chicken     96\n",
              "Parm                          68\n",
              "Name: restaurant_name, dtype: int64"
            ]
          },
          "metadata": {},
          "execution_count": 67
        }
      ],
      "source": [
        "# Get top 5 restaurants with highest number of orders\n",
        "df['restaurant_name'].value_counts()[:5]"
      ]
    },
    {
      "cell_type": "code",
      "source": [
        "#--Using group by\n",
        "df_top_5 = df.groupby(['restaurant_name'])['restaurant_name'].count().sort_values(ascending = False)\n",
        "df_top_5.head()"
      ],
      "metadata": {
        "colab": {
          "base_uri": "https://localhost:8080/"
        },
        "id": "BSWpUMkHO6mh",
        "outputId": "820a9aab-0167-4b5a-b866-c3505f369bf5"
      },
      "execution_count": null,
      "outputs": [
        {
          "output_type": "execute_result",
          "data": {
            "text/plain": [
              "restaurant_name\n",
              "Shake Shack                  219\n",
              "The Meatball Shop            132\n",
              "Blue Ribbon Sushi            119\n",
              "Blue Ribbon Fried Chicken     96\n",
              "Parm                          68\n",
              "Name: restaurant_name, dtype: int64"
            ]
          },
          "metadata": {},
          "execution_count": 71
        }
      ]
    },
    {
      "cell_type": "markdown",
      "metadata": {
        "id": "W2BffrGIm6u5"
      },
      "source": [
        "#### Observations:\n",
        "\n",
        "* Top 5 popular restaurants that have received the highest number of orders **'Shake Shack', 'The Meatball Shop', 'Blue Ribbon Sushi', 'Blue Ribbon Fried Chicken' and 'Parm'**.\n",
        "\n",
        "* Almost 33% of the orders in the dataset are from these restaurants.\n"
      ]
    },
    {
      "cell_type": "markdown",
      "metadata": {
        "id": "HrtWQfSJm6u6"
      },
      "source": [
        "### **Question 8:** Which is the most popular cuisine on weekends? [1 mark]"
      ]
    },
    {
      "cell_type": "code",
      "execution_count": null,
      "metadata": {
        "colab": {
          "base_uri": "https://localhost:8080/"
        },
        "id": "YfiQ4lVgm6u6",
        "outputId": "03de9f16-cf3c-46e3-9557-8c21205c5ab7"
      },
      "outputs": [
        {
          "output_type": "execute_result",
          "data": {
            "text/plain": [
              "American          415\n",
              "Japanese          335\n",
              "Italian           207\n",
              "Chinese           163\n",
              "Mexican            53\n",
              "Indian             49\n",
              "Mediterranean      32\n",
              "Middle Eastern     32\n",
              "Thai               15\n",
              "French             13\n",
              "Korean             11\n",
              "Southern           11\n",
              "Spanish            11\n",
              "Vietnamese          4\n",
              "Name: cuisine_type, dtype: int64"
            ]
          },
          "metadata": {},
          "execution_count": 68
        }
      ],
      "source": [
        "# Get most popular cuisine on weekends\n",
        "df_weekend = df[df['day_of_the_week'] == 'Weekend']\n",
        "df_weekend['cuisine_type'].value_counts()"
      ]
    },
    {
      "cell_type": "code",
      "source": [
        "#--Alternate solution---#\n",
        "#--Get a countplot\n",
        "plt.figure(figsize = (15,5))\n",
        "sns.countplot(data = df_weekend, x = 'cuisine_type', order = df_weekend['cuisine_type'].value_counts().index)"
      ],
      "metadata": {
        "colab": {
          "base_uri": "https://localhost:8080/",
          "height": 352
        },
        "id": "u13NGT_q7JOS",
        "outputId": "3315b2a5-bacf-4b41-f6b8-8851df75748b"
      },
      "execution_count": null,
      "outputs": [
        {
          "output_type": "execute_result",
          "data": {
            "text/plain": [
              "<AxesSubplot:xlabel='cuisine_type', ylabel='count'>"
            ]
          },
          "metadata": {},
          "execution_count": 37
        },
        {
          "output_type": "display_data",
          "data": {
            "text/plain": [
              "<Figure size 1080x360 with 1 Axes>"
            ],
            "image/png": "[encoded data removed]"
          },
          "metadata": {
            "needs_background": "light"
          }
        }
      ]
    },
    {
      "cell_type": "code",
      "source": [
        "#--Alternate solution 2--#\n",
        "#--Get a countplot from the original data-frame\n",
        "plt.figure(figsize = (15,5))\n",
        "sns.countplot(data = df, x = 'cuisine_type', hue = 'day_of_the_week', order = df_weekend['cuisine_type'].value_counts().index)"
      ],
      "metadata": {
        "colab": {
          "base_uri": "https://localhost:8080/",
          "height": 352
        },
        "id": "FrHVO1TM7r3_",
        "outputId": "ad04c667-3df1-4d9e-f695-abc09e0344a2"
      },
      "execution_count": null,
      "outputs": [
        {
          "output_type": "execute_result",
          "data": {
            "text/plain": [
              "<AxesSubplot:xlabel='cuisine_type', ylabel='count'>"
            ]
          },
          "metadata": {},
          "execution_count": 38
        },
        {
          "output_type": "display_data",
          "data": {
            "text/plain": [
              "<Figure size 1080x360 with 1 Axes>"
            ],
            "image/png": "[encoded data removed]"
          },
          "metadata": {
            "needs_background": "light"
          }
        }
      ]
    },
    {
      "cell_type": "markdown",
      "metadata": {
        "id": "kWzh3GtPm6u6"
      },
      "source": [
        "#### Observations:\n",
        "\n",
        "* The most popular cuisine type on weekends is American.\n"
      ]
    },
    {
      "cell_type": "markdown",
      "metadata": {
        "id": "GMlppFGum6u7"
      },
      "source": [
        "### **Question 9:** What percentage of the orders cost more than 20 dollars? [2 Marks]"
      ]
    },
    {
      "cell_type": "code",
      "execution_count": null,
      "metadata": {
        "colab": {
          "base_uri": "https://localhost:8080/"
        },
        "id": "4VtPDAnSm6u7",
        "outputId": "e3e00e3d-d6a0-4413-a9ca-f794fb9464ef"
      },
      "outputs": [
        {
          "name": "stdout",
          "output_type": "stream",
          "text": [
            "The number of total orders that cost above 20 dollars is: 555\n",
            "Percentage of orders above 20 dollars: 29.24 %\n"
          ]
        }
      ],
      "source": [
        "# Get orders that cost above 20 dollars\n",
        "df_greater_than_20 = df[df['cost_of_the_order'] > 20]\n",
        "\n",
        "# Calculate the number of total orders where the cost is above 20 dollars\n",
        "\n",
        "print('The number of total orders that cost above 20 dollars is:', df_greater_than_20.shape[0])\n",
        "\n",
        "# Calculate percentage of such orders in the dataset\n",
        "percentage = (df_greater_than_20.shape[0] / df.shape[0]) * 100\n",
        "\n",
        "print(\"Percentage of orders above 20 dollars:\", round(percentage, 2), '%')"
      ]
    },
    {
      "cell_type": "code",
      "source": [
        "#--Using a new column with np.where\n",
        "df['more_than_20'] = np.where(df['cost_of_the_order'] > 20, 1, 0)\n",
        "percentage_1 = (df['more_than_20'].sum() / df.shape[0])*100\n",
        "print(\"Percentage of orders above 20 dollars:\", round(percentage_1, 2), '%')"
      ],
      "metadata": {
        "colab": {
          "base_uri": "https://localhost:8080/"
        },
        "id": "-u3lNuaGFw4K",
        "outputId": "ea624f12-d90b-4f16-fc2f-8c315ae7667d"
      },
      "execution_count": null,
      "outputs": [
        {
          "output_type": "stream",
          "name": "stdout",
          "text": [
            "Percentage of orders above 20 dollars: 29.24 %\n"
          ]
        }
      ]
    },
    {
      "cell_type": "markdown",
      "metadata": {
        "id": "PMaQdz6Cm6u7"
      },
      "source": [
        "#### Observations:\n",
        "\n",
        "* There are a total of 555 orders that cost above 20 dollars.\n",
        "\n",
        "* The percentage of such orders in the dataset is around 29.24%.\n"
      ]
    },
    {
      "cell_type": "markdown",
      "metadata": {
        "id": "dFV83IYdm6u8"
      },
      "source": [
        "### **Question 10:** What is the mean order delivery time? [1 mark]"
      ]
    },
    {
      "cell_type": "code",
      "execution_count": null,
      "metadata": {
        "colab": {
          "base_uri": "https://localhost:8080/"
        },
        "id": "4yWL7sEQm6u8",
        "outputId": "50ea6d4a-156a-42de-801a-45101f914a0f"
      },
      "outputs": [
        {
          "output_type": "stream",
          "name": "stdout",
          "text": [
            "The mean delivery time for this dataset is 24.16 minutes\n"
          ]
        }
      ],
      "source": [
        "# get the mean delivery time\n",
        "print('The mean delivery time for this dataset is', round(df['delivery_time'].mean(), 2), 'minutes')"
      ]
    },
    {
      "cell_type": "markdown",
      "metadata": {
        "id": "XMSbZOrrm6u8"
      },
      "source": [
        "#### Observations:\n",
        "\n",
        "* The mean delivery time is around 24.16 minutes.\n"
      ]
    },
    {
      "cell_type": "markdown",
      "metadata": {
        "id": "mpFTCkb4m6u9"
      },
      "source": [
        "### **Question 11:** The company has decided to give 20% discount vouchers to the top 5 most frequent customers. Find the IDs of these customers and the number of orders they placed. [1 mark]"
      ]
    },
    {
      "cell_type": "code",
      "execution_count": null,
      "metadata": {
        "colab": {
          "base_uri": "https://localhost:8080/"
        },
        "id": "cMlblCMOMyK0",
        "outputId": "601f267b-946f-40e3-8ffb-25e12d9a3a65"
      },
      "outputs": [
        {
          "data": {
            "text/plain": [
              "52832     13\n",
              "47440     10\n",
              "83287      9\n",
              "250494     8\n",
              "259341     7\n",
              "Name: customer_id, dtype: int64"
            ]
          },
          "execution_count": 25,
          "metadata": {},
          "output_type": "execute_result"
        }
      ],
      "source": [
        "# Get the counts of  each customer_id\n",
        "df['customer_id'].value_counts().head()"
      ]
    },
    {
      "cell_type": "markdown",
      "metadata": {
        "id": "-KDs6lf7m6u9"
      },
      "source": [
        "#### Observations:\n",
        "- Customer with ID 52832 has ordered 13 times.\n"
      ]
    },
    {
      "cell_type": "markdown",
      "metadata": {
        "id": "jpuNjd2jm6u-"
      },
      "source": [
        "### Multivariate Analysis"
      ]
    },
    {
      "cell_type": "markdown",
      "metadata": {
        "id": "hT-S0pZ1m6u-"
      },
      "source": [
        "### **Question 12:** Perform a multivariate analysis to explore relationships between the important variables in the dataset. (It is a good idea to explore relations between numerical variables as well as relations between numerical and categorical variables) [10 marks]"
      ]
    },
    {
      "cell_type": "markdown",
      "metadata": {
        "id": "KcDUUrytm6u-"
      },
      "source": [
        "#### Cuisine vs Cost of the order"
      ]
    },
    {
      "cell_type": "code",
      "execution_count": null,
      "metadata": {
        "colab": {
          "base_uri": "https://localhost:8080/",
          "height": 503
        },
        "id": "oHl8pmD_m6u-",
        "outputId": "d619dde2-9b44-4db1-ff4f-3bb869e2ac08"
      },
      "outputs": [
        {
          "output_type": "display_data",
          "data": {
            "text/plain": [
              "<Figure size 1080x504 with 1 Axes>"
            ],
            "image/png": "[encoded data removed]"
          },
          "metadata": {
            "needs_background": "light"
          }
        }
      ],
      "source": [
        "# Relationship between cost of the order and cuisine type\n",
        "plt.figure(figsize=(15,7))\n",
        "sns.boxplot(x = \"cuisine_type\", y = \"cost_of_the_order\", data = df, palette = 'PuBu')\n",
        "plt.xticks(rotation = 60)\n",
        "plt.show()"
      ]
    },
    {
      "cell_type": "code",
      "source": [
        "#--What is the most expensive cuisine\n",
        "df_grouped = df.groupby('cuisine_type')['cost_of_the_order'].mean().sort_values(ascending = False).reset_index()\n",
        "df_grouped"
      ],
      "metadata": {
        "colab": {
          "base_uri": "https://localhost:8080/",
          "height": 488
        },
        "id": "ztUTwFMH9XQ1",
        "outputId": "4d878212-0df9-44d8-f4dd-3397c5c2beab"
      },
      "execution_count": null,
      "outputs": [
        {
          "output_type": "execute_result",
          "data": {
            "text/plain": [
              "      cuisine_type  cost_of_the_order\n",
              "0           French              19.79\n",
              "1         Southern              19.30\n",
              "2             Thai              19.21\n",
              "3          Spanish              18.99\n",
              "4   Middle Eastern              18.82\n",
              "5          Mexican              16.93\n",
              "6           Indian              16.92\n",
              "7          Italian              16.42\n",
              "8         American              16.32\n",
              "9          Chinese              16.31\n",
              "10        Japanese              16.30\n",
              "11   Mediterranean              15.47\n",
              "12          Korean              14.00\n",
              "13      Vietnamese              12.88"
            ],
            "text/html": [
              "\n",
              "  <div id=\"df-8a5d0c3f-e8a4-44fa-835e-8d05573635bc\">\n",
              "    <div class=\"colab-df-container\">\n",
              "      <div>\n",
              "<style scoped>\n",
              "    .dataframe tbody tr th:only-of-type {\n",
              "        vertical-align: middle;\n",
              "    }\n",
              "\n",
              "    .dataframe tbody tr th {\n",
              "        vertical-align: top;\n",
              "    }\n",
              "\n",
              "    .dataframe thead th {\n",
              "        text-align: right;\n",
              "    }\n",
              "</style>\n",
              "<table border=\"1\" class=\"dataframe\">\n",
              "  <thead>\n",
              "    <tr style=\"text-align: right;\">\n",
              "      <th></th>\n",
              "      <th>cuisine_type</th>\n",
              "      <th>cost_of_the_order</th>\n",
              "    </tr>\n",
              "  </thead>\n",
              "  <tbody>\n",
              "    <tr>\n",
              "      <th>0</th>\n",
              "      <td>French</td>\n",
              "      <td>19.79</td>\n",
              "    </tr>\n",
              "    <tr>\n",
              "      <th>1</th>\n",
              "      <td>Southern</td>\n",
              "      <td>19.30</td>\n",
              "    </tr>\n",
              "    <tr>\n",
              "      <th>2</th>\n",
              "      <td>Thai</td>\n",
              "      <td>19.21</td>\n",
              "    </tr>\n",
              "    <tr>\n",
              "      <th>3</th>\n",
              "      <td>Spanish</td>\n",
              "      <td>18.99</td>\n",
              "    </tr>\n",
              "    <tr>\n",
              "      <th>4</th>\n",
              "      <td>Middle Eastern</td>\n",
              "      <td>18.82</td>\n",
              "    </tr>\n",
              "    <tr>\n",
              "      <th>5</th>\n",
              "      <td>Mexican</td>\n",
              "      <td>16.93</td>\n",
              "    </tr>\n",
              "    <tr>\n",
              "      <th>6</th>\n",
              "      <td>Indian</td>\n",
              "      <td>16.92</td>\n",
              "    </tr>\n",
              "    <tr>\n",
              "      <th>7</th>\n",
              "      <td>Italian</td>\n",
              "      <td>16.42</td>\n",
              "    </tr>\n",
              "    <tr>\n",
              "      <th>8</th>\n",
              "      <td>American</td>\n",
              "      <td>16.32</td>\n",
              "    </tr>\n",
              "    <tr>\n",
              "      <th>9</th>\n",
              "      <td>Chinese</td>\n",
              "      <td>16.31</td>\n",
              "    </tr>\n",
              "    <tr>\n",
              "      <th>10</th>\n",
              "      <td>Japanese</td>\n",
              "      <td>16.30</td>\n",
              "    </tr>\n",
              "    <tr>\n",
              "      <th>11</th>\n",
              "      <td>Mediterranean</td>\n",
              "      <td>15.47</td>\n",
              "    </tr>\n",
              "    <tr>\n",
              "      <th>12</th>\n",
              "      <td>Korean</td>\n",
              "      <td>14.00</td>\n",
              "    </tr>\n",
              "    <tr>\n",
              "      <th>13</th>\n",
              "      <td>Vietnamese</td>\n",
              "      <td>12.88</td>\n",
              "    </tr>\n",
              "  </tbody>\n",
              "</table>\n",
              "</div>\n",
              "      <button class=\"colab-df-convert\" onclick=\"convertToInteractive('df-8a5d0c3f-e8a4-44fa-835e-8d05573635bc')\"\n",
              "              title=\"Convert this dataframe to an interactive table.\"\n",
              "              style=\"display:none;\">\n",
              "        \n",
              "  <svg xmlns=\"http://www.w3.org/2000/svg\" height=\"24px\"viewBox=\"0 0 24 24\"\n",
              "       width=\"24px\">\n",
              "    <path d=\"M0 0h24v24H0V0z\" fill=\"none\"/>\n",
              "    <path d=\"M18.56 5.44l.94 2.06.94-2.06 2.06-.94-2.06-.94-.94-2.06-.94 2.06-2.06.94zm-11 1L8.5 8.5l.94-2.06 2.06-.94-2.06-.94L8.5 2.5l-.94 2.06-2.06.94zm10 10l.94 2.06.94-2.06 2.06-.94-2.06-.94-.94-2.06-.94 2.06-2.06.94z\"/><path d=\"M17.41 7.96l-1.37-1.37c-.4-.4-.92-.59-1.43-.59-.52 0-1.04.2-1.43.59L10.3 9.45l-7.72 7.72c-.78.78-.78 2.05 0 2.83L4 21.41c.39.39.9.59 1.41.59.51 0 1.02-.2 1.41-.59l7.78-7.78 2.81-2.81c.8-.78.8-2.07 0-2.86zM5.41 20L4 18.59l7.72-7.72 1.47 1.35L5.41 20z\"/>\n",
              "  </svg>\n",
              "      </button>\n",
              "      \n",
              "  <style>\n",
              "    .colab-df-container {\n",
              "      display:flex;\n",
              "      flex-wrap:wrap;\n",
              "      gap: 12px;\n",
              "    }\n",
              "\n",
              "    .colab-df-convert {\n",
              "      background-color: #E8F0FE;\n",
              "      border: none;\n",
              "      border-radius: 50%;\n",
              "      cursor: pointer;\n",
              "      display: none;\n",
              "      fill: #1967D2;\n",
              "      height: 32px;\n",
              "      padding: 0 0 0 0;\n",
              "      width: 32px;\n",
              "    }\n",
              "\n",
              "    .colab-df-convert:hover {\n",
              "      background-color: #E2EBFA;\n",
              "      box-shadow: 0px 1px 2px rgba(60, 64, 67, 0.3), 0px 1px 3px 1px rgba(60, 64, 67, 0.15);\n",
              "      fill: #174EA6;\n",
              "    }\n",
              "\n",
              "    [theme=dark] .colab-df-convert {\n",
              "      background-color: #3B4455;\n",
              "      fill: #D2E3FC;\n",
              "    }\n",
              "\n",
              "    [theme=dark] .colab-df-convert:hover {\n",
              "      background-color: #434B5C;\n",
              "      box-shadow: 0px 1px 3px 1px rgba(0, 0, 0, 0.15);\n",
              "      filter: drop-shadow(0px 1px 2px rgba(0, 0, 0, 0.3));\n",
              "      fill: #FFFFFF;\n",
              "    }\n",
              "  </style>\n",
              "\n",
              "      <script>\n",
              "        const buttonEl =\n",
              "          document.querySelector('#df-8a5d0c3f-e8a4-44fa-835e-8d05573635bc button.colab-df-convert');\n",
              "        buttonEl.style.display =\n",
              "          google.colab.kernel.accessAllowed ? 'block' : 'none';\n",
              "\n",
              "        async function convertToInteractive(key) {\n",
              "          const element = document.querySelector('#df-8a5d0c3f-e8a4-44fa-835e-8d05573635bc');\n",
              "          const dataTable =\n",
              "            await google.colab.kernel.invokeFunction('convertToInteractive',\n",
              "                                                     [key], {});\n",
              "          if (!dataTable) return;\n",
              "\n",
              "          const docLinkHtml = 'Like what you see? Visit the ' +\n",
              "            '<a target=\"_blank\" href=https://colab.research.google.com/notebooks/data_table.ipynb>data table notebook</a>'\n",
              "            + ' to learn more about interactive tables.';\n",
              "          element.innerHTML = '';\n",
              "          dataTable['output_type'] = 'display_data';\n",
              "          await google.colab.output.renderOutput(dataTable, element);\n",
              "          const docLink = document.createElement('div');\n",
              "          docLink.innerHTML = docLinkHtml;\n",
              "          element.appendChild(docLink);\n",
              "        }\n",
              "      </script>\n",
              "    </div>\n",
              "  </div>\n",
              "  "
            ]
          },
          "metadata": {},
          "execution_count": 71
        }
      ]
    },
    {
      "cell_type": "markdown",
      "metadata": {
        "id": "apBaHr6cm6u_"
      },
      "source": [
        "#### Observations:\n",
        "\n",
        "* Vietnamese and Korean cuisines cost less compared to other cuisines.\n",
        "* The boxplots for Italian, American, Chinese, Japanese cuisines are quite similar. This indicates that the quartile costs for these cuisines are quite similar.\n",
        "* Outliers are present for the cost of Korean, Mediterranean and Vietnamese cuisines.\n",
        "* French and Spanish cuisines are costlier compared to other cuisines."
      ]
    },
    {
      "cell_type": "markdown",
      "metadata": {
        "id": "7uNdYNUQm6u_"
      },
      "source": [
        "#### Cuisine vs Food Preparation time"
      ]
    },
    {
      "cell_type": "code",
      "execution_count": null,
      "metadata": {
        "colab": {
          "base_uri": "https://localhost:8080/",
          "height": 503
        },
        "id": "JAx4avTRm6vA",
        "outputId": "f3d10e71-f70a-49a3-9e5f-c1623378cd0b",
        "scrolled": true
      },
      "outputs": [
        {
          "output_type": "display_data",
          "data": {
            "text/plain": [
              "<Figure size 1080x504 with 1 Axes>"
            ],
            "image/png": "[encoded data removed]"
          },
          "metadata": {
            "needs_background": "light"
          }
        }
      ],
      "source": [
        "# Relationship between food preparation time and cuisine type\n",
        "plt.figure(figsize=(15,7))\n",
        "sns.boxplot(x = \"cuisine_type\", y = \"food_preparation_time\", data = df, palette = 'PuBu')\n",
        "plt.xticks(rotation = 60)\n",
        "plt.show()"
      ]
    },
    {
      "cell_type": "markdown",
      "metadata": {
        "id": "mHPdLK2mm6vA"
      },
      "source": [
        "#### Observations:\n",
        "\n",
        "* Food preparation time is very consistent for most of the cuisines.\n",
        "* The median food preparation time lies between 24 and 30 minutes for all the cuisines.\n",
        "* Outliers are present for the food preparation time of Korean cuisine.\n",
        "* Korean cuisine takes less time compared to the other cuisines.\n"
      ]
    },
    {
      "cell_type": "markdown",
      "metadata": {
        "id": "_S6guWjHm6vA"
      },
      "source": [
        "#### Day of the Week vs Delivery time"
      ]
    },
    {
      "cell_type": "code",
      "execution_count": null,
      "metadata": {
        "colab": {
          "base_uri": "https://localhost:8080/",
          "height": 478
        },
        "id": "dZP6WwDZm6vB",
        "outputId": "ffa677cc-1dd1-479c-a788-369acf46dcaf",
        "scrolled": true
      },
      "outputs": [
        {
          "output_type": "display_data",
          "data": {
            "text/plain": [
              "<Figure size 1080x504 with 1 Axes>"
            ],
            "image/png": "[encoded data removed]"
          },
          "metadata": {
            "needs_background": "light"
          }
        }
      ],
      "source": [
        "# Relationship between day of the week and delivery time\n",
        "plt.figure(figsize=(15,7))\n",
        "sns.boxplot(x = \"day_of_the_week\", y = \"delivery_time\", data = df, palette = 'PuBu')\n",
        "plt.xticks(rotation = 60)\n",
        "plt.show()"
      ]
    },
    {
      "cell_type": "markdown",
      "metadata": {
        "id": "Q_e0JW93m6vB"
      },
      "source": [
        "#### Observations:\n",
        "\n",
        "* The delivery time for all the orders over the weekends is less compared to weekdays. This could be due to the dip in traffic over the weekends.\n"
      ]
    },
    {
      "cell_type": "markdown",
      "metadata": {
        "id": "qI-_5-_rm6vB"
      },
      "source": [
        "#### Revenue generated by the restaurants"
      ]
    },
    {
      "cell_type": "code",
      "execution_count": null,
      "metadata": {
        "colab": {
          "base_uri": "https://localhost:8080/",
          "height": 312
        },
        "id": "KE-bRW-9m6vC",
        "outputId": "a308afb8-572e-4982-bb48-6bea198b1d82",
        "scrolled": false
      },
      "outputs": [
        {
          "output_type": "execute_result",
          "data": {
            "text/plain": [
              "restaurant_name\n",
              "Shake Shack                     3579.53\n",
              "The Meatball Shop               2145.21\n",
              "Blue Ribbon Sushi               1903.95\n",
              "Blue Ribbon Fried Chicken       1662.29\n",
              "Parm                            1112.76\n",
              "RedFarm Broadway                 965.13\n",
              "RedFarm Hudson                   921.21\n",
              "TAO                              834.50\n",
              "Han Dynasty                      755.29\n",
              "Blue Ribbon Sushi Bar & Grill    666.62\n",
              "Rubirosa                         660.45\n",
              "Sushi of Gari 46                 640.87\n",
              "Nobu Next Door                   623.67\n",
              "Five Guys Burgers and Fries      506.47\n",
              "Name: cost_of_the_order, dtype: float64"
            ]
          },
          "metadata": {},
          "execution_count": 74
        },
        {
          "output_type": "display_data",
          "data": {
            "text/plain": [
              "<Figure size 1080x504 with 0 Axes>"
            ]
          },
          "metadata": {}
        }
      ],
      "source": [
        "plt.figure(figsize = (15, 7))\n",
        "df.groupby(['restaurant_name'])['cost_of_the_order'].sum().sort_values(ascending = False).head(14)"
      ]
    },
    {
      "cell_type": "markdown",
      "metadata": {
        "id": "e7qHwKUom6vE"
      },
      "source": [
        "#### Observations:\n",
        "\n",
        "* The above 14 restaurants are generating more than 500 dollars revenue.\n"
      ]
    },
    {
      "cell_type": "markdown",
      "metadata": {
        "id": "VceRC04Nm6vF"
      },
      "source": [
        "#### Rating vs Delivery time"
      ]
    },
    {
      "cell_type": "code",
      "execution_count": null,
      "metadata": {
        "colab": {
          "base_uri": "https://localhost:8080/",
          "height": 442
        },
        "id": "5eT2D-VVm6vF",
        "outputId": "182e3716-78aa-4527-f9ba-66ff643a0552",
        "scrolled": true
      },
      "outputs": [
        {
          "output_type": "display_data",
          "data": {
            "text/plain": [
              "<Figure size 1080x504 with 1 Axes>"
            ],
            "image/png": "[encoded data removed]"
          },
          "metadata": {
            "needs_background": "light"
          }
        }
      ],
      "source": [
        "# Relationship between rating and delivery time\n",
        "plt.figure(figsize=(15, 7))\n",
        "sns.pointplot(x = 'rating', y = 'delivery_time', data = df)\n",
        "plt.show()"
      ]
    },
    {
      "cell_type": "markdown",
      "metadata": {
        "id": "dloWP1evm6vF"
      },
      "source": [
        "#### Observations:\n",
        "\n",
        "* It is possible that delivery time plays a role in the low-rating of the orders.\n"
      ]
    },
    {
      "cell_type": "markdown",
      "metadata": {
        "id": "bEHKQDvWm6vG"
      },
      "source": [
        "#### Rating vs Food preparation time"
      ]
    },
    {
      "cell_type": "code",
      "execution_count": null,
      "metadata": {
        "colab": {
          "base_uri": "https://localhost:8080/",
          "height": 442
        },
        "id": "mUykbWRTm6vG",
        "outputId": "47c46f32-7186-4d2d-b48d-233e604fdd58",
        "scrolled": true
      },
      "outputs": [
        {
          "output_type": "display_data",
          "data": {
            "text/plain": [
              "<Figure size 1080x504 with 1 Axes>"
            ],
            "image/png": "[encoded data removed]"
          },
          "metadata": {
            "needs_background": "light"
          }
        }
      ],
      "source": [
        "# Relationship between rating and food preparation time\n",
        "plt.figure(figsize=(15, 7))\n",
        "sns.pointplot(x = 'rating', y = 'food_preparation_time', data = df)\n",
        "plt.show()"
      ]
    },
    {
      "cell_type": "markdown",
      "metadata": {
        "id": "UsQeYjenm6vG"
      },
      "source": [
        "#### Observations:\n",
        "\n",
        "* It seems that food preparation time does not play a role in the low-rating of the orders.\n"
      ]
    },
    {
      "cell_type": "markdown",
      "metadata": {
        "id": "oc6bS5UAm6vH"
      },
      "source": [
        "#### Rating vs Cost of the order"
      ]
    },
    {
      "cell_type": "code",
      "execution_count": null,
      "metadata": {
        "colab": {
          "base_uri": "https://localhost:8080/",
          "height": 442
        },
        "id": "WGzWG6jjm6vH",
        "outputId": "f7d0b9fd-9c70-48ec-aa68-75a2e812c659"
      },
      "outputs": [
        {
          "output_type": "display_data",
          "data": {
            "text/plain": [
              "<Figure size 1080x504 with 1 Axes>"
            ],
            "image/png": "[encoded data removed]"
          },
          "metadata": {
            "needs_background": "light"
          }
        }
      ],
      "source": [
        "# Relationship between rating and cost of the order\n",
        "plt.figure(figsize=(15, 7))\n",
        "sns.pointplot(x = 'rating', y = 'cost_of_the_order', data = df)\n",
        "plt.show()"
      ]
    },
    {
      "cell_type": "markdown",
      "metadata": {
        "id": "3WkJdR5Mm6vH"
      },
      "source": [
        "#### Observations\n",
        "\n",
        "* It seems that high-cost orders have been rated well and low-cost orders have not been rated."
      ]
    },
    {
      "cell_type": "markdown",
      "metadata": {
        "id": "968jLoqLm6vI"
      },
      "source": [
        "#### Correlation among variables"
      ]
    },
    {
      "cell_type": "code",
      "execution_count": null,
      "metadata": {
        "colab": {
          "base_uri": "https://localhost:8080/",
          "height": 433
        },
        "id": "Lj-g5W8Jm6vI",
        "outputId": "ae087b3e-95dc-4a17-a5d7-64b3c71ee2ba",
        "scrolled": true
      },
      "outputs": [
        {
          "output_type": "display_data",
          "data": {
            "text/plain": [
              "<Figure size 1080x504 with 2 Axes>"
            ],
            "image/png": "[encoded data removed]"
          },
          "metadata": {
            "needs_background": "light"
          }
        }
      ],
      "source": [
        "\n",
        "# plot the heatmap\n",
        "col_list = ['cost_of_the_order', 'food_preparation_time', 'delivery_time']\n",
        "plt.figure(figsize=(15, 7))\n",
        "sns.heatmap(df[col_list].corr(), annot=True, vmin=-1, vmax=1, fmt=\".2f\", cmap=\"Spectral\")\n",
        "plt.show()\n",
        "\n"
      ]
    },
    {
      "cell_type": "markdown",
      "metadata": {
        "id": "ywDKtXImm6vJ"
      },
      "source": [
        "#### Observations:\n",
        "\n",
        "* There is no correlation between cost of the order, delivery time and food preparation time.\n"
      ]
    },
    {
      "cell_type": "markdown",
      "metadata": {
        "id": "X3GM46mSm6vJ"
      },
      "source": [
        "### **Question 13:** The company wants to provide a promotional offer in the advertisement of the restaurants. The condition to get the offer is that the restaurants must have a rating count of more than 50 and the average rating should be greater than 4. Find the restaurants fulfilling the criteria to get the promotional offer. [3 marks]"
      ]
    },
    {
      "cell_type": "code",
      "execution_count": null,
      "metadata": {
        "colab": {
          "base_uri": "https://localhost:8080/",
          "height": 206
        },
        "id": "UatGdOjSm6vJ",
        "outputId": "49f2c84f-1888-44cc-c7d3-d3ca6dfac87b",
        "scrolled": true
      },
      "outputs": [
        {
          "output_type": "execute_result",
          "data": {
            "text/plain": [
              "             restaurant_name  rating\n",
              "0                Shake Shack     133\n",
              "1          The Meatball Shop      84\n",
              "2          Blue Ribbon Sushi      73\n",
              "3  Blue Ribbon Fried Chicken      64\n",
              "4           RedFarm Broadway      41"
            ],
            "text/html": [
              "\n",
              "  <div id=\"df-981a4ba7-fc2e-4487-b343-6615d8a52e07\">\n",
              "    <div class=\"colab-df-container\">\n",
              "      <div>\n",
              "<style scoped>\n",
              "    .dataframe tbody tr th:only-of-type {\n",
              "        vertical-align: middle;\n",
              "    }\n",
              "\n",
              "    .dataframe tbody tr th {\n",
              "        vertical-align: top;\n",
              "    }\n",
              "\n",
              "    .dataframe thead th {\n",
              "        text-align: right;\n",
              "    }\n",
              "</style>\n",
              "<table border=\"1\" class=\"dataframe\">\n",
              "  <thead>\n",
              "    <tr style=\"text-align: right;\">\n",
              "      <th></th>\n",
              "      <th>restaurant_name</th>\n",
              "      <th>rating</th>\n",
              "    </tr>\n",
              "  </thead>\n",
              "  <tbody>\n",
              "    <tr>\n",
              "      <th>0</th>\n",
              "      <td>Shake Shack</td>\n",
              "      <td>133</td>\n",
              "    </tr>\n",
              "    <tr>\n",
              "      <th>1</th>\n",
              "      <td>The Meatball Shop</td>\n",
              "      <td>84</td>\n",
              "    </tr>\n",
              "    <tr>\n",
              "      <th>2</th>\n",
              "      <td>Blue Ribbon Sushi</td>\n",
              "      <td>73</td>\n",
              "    </tr>\n",
              "    <tr>\n",
              "      <th>3</th>\n",
              "      <td>Blue Ribbon Fried Chicken</td>\n",
              "      <td>64</td>\n",
              "    </tr>\n",
              "    <tr>\n",
              "      <th>4</th>\n",
              "      <td>RedFarm Broadway</td>\n",
              "      <td>41</td>\n",
              "    </tr>\n",
              "  </tbody>\n",
              "</table>\n",
              "</div>\n",
              "      <button class=\"colab-df-convert\" onclick=\"convertToInteractive('df-981a4ba7-fc2e-4487-b343-6615d8a52e07')\"\n",
              "              title=\"Convert this dataframe to an interactive table.\"\n",
              "              style=\"display:none;\">\n",
              "        \n",
              "  <svg xmlns=\"http://www.w3.org/2000/svg\" height=\"24px\"viewBox=\"0 0 24 24\"\n",
              "       width=\"24px\">\n",
              "    <path d=\"M0 0h24v24H0V0z\" fill=\"none\"/>\n",
              "    <path d=\"M18.56 5.44l.94 2.06.94-2.06 2.06-.94-2.06-.94-.94-2.06-.94 2.06-2.06.94zm-11 1L8.5 8.5l.94-2.06 2.06-.94-2.06-.94L8.5 2.5l-.94 2.06-2.06.94zm10 10l.94 2.06.94-2.06 2.06-.94-2.06-.94-.94-2.06-.94 2.06-2.06.94z\"/><path d=\"M17.41 7.96l-1.37-1.37c-.4-.4-.92-.59-1.43-.59-.52 0-1.04.2-1.43.59L10.3 9.45l-7.72 7.72c-.78.78-.78 2.05 0 2.83L4 21.41c.39.39.9.59 1.41.59.51 0 1.02-.2 1.41-.59l7.78-7.78 2.81-2.81c.8-.78.8-2.07 0-2.86zM5.41 20L4 18.59l7.72-7.72 1.47 1.35L5.41 20z\"/>\n",
              "  </svg>\n",
              "      </button>\n",
              "      \n",
              "  <style>\n",
              "    .colab-df-container {\n",
              "      display:flex;\n",
              "      flex-wrap:wrap;\n",
              "      gap: 12px;\n",
              "    }\n",
              "\n",
              "    .colab-df-convert {\n",
              "      background-color: #E8F0FE;\n",
              "      border: none;\n",
              "      border-radius: 50%;\n",
              "      cursor: pointer;\n",
              "      display: none;\n",
              "      fill: #1967D2;\n",
              "      height: 32px;\n",
              "      padding: 0 0 0 0;\n",
              "      width: 32px;\n",
              "    }\n",
              "\n",
              "    .colab-df-convert:hover {\n",
              "      background-color: #E2EBFA;\n",
              "      box-shadow: 0px 1px 2px rgba(60, 64, 67, 0.3), 0px 1px 3px 1px rgba(60, 64, 67, 0.15);\n",
              "      fill: #174EA6;\n",
              "    }\n",
              "\n",
              "    [theme=dark] .colab-df-convert {\n",
              "      background-color: #3B4455;\n",
              "      fill: #D2E3FC;\n",
              "    }\n",
              "\n",
              "    [theme=dark] .colab-df-convert:hover {\n",
              "      background-color: #434B5C;\n",
              "      box-shadow: 0px 1px 3px 1px rgba(0, 0, 0, 0.15);\n",
              "      filter: drop-shadow(0px 1px 2px rgba(0, 0, 0, 0.3));\n",
              "      fill: #FFFFFF;\n",
              "    }\n",
              "  </style>\n",
              "\n",
              "      <script>\n",
              "        const buttonEl =\n",
              "          document.querySelector('#df-981a4ba7-fc2e-4487-b343-6615d8a52e07 button.colab-df-convert');\n",
              "        buttonEl.style.display =\n",
              "          google.colab.kernel.accessAllowed ? 'block' : 'none';\n",
              "\n",
              "        async function convertToInteractive(key) {\n",
              "          const element = document.querySelector('#df-981a4ba7-fc2e-4487-b343-6615d8a52e07');\n",
              "          const dataTable =\n",
              "            await google.colab.kernel.invokeFunction('convertToInteractive',\n",
              "                                                     [key], {});\n",
              "          if (!dataTable) return;\n",
              "\n",
              "          const docLinkHtml = 'Like what you see? Visit the ' +\n",
              "            '<a target=\"_blank\" href=https://colab.research.google.com/notebooks/data_table.ipynb>data table notebook</a>'\n",
              "            + ' to learn more about interactive tables.';\n",
              "          element.innerHTML = '';\n",
              "          dataTable['output_type'] = 'display_data';\n",
              "          await google.colab.output.renderOutput(dataTable, element);\n",
              "          const docLink = document.createElement('div');\n",
              "          docLink.innerHTML = docLinkHtml;\n",
              "          element.appendChild(docLink);\n",
              "        }\n",
              "      </script>\n",
              "    </div>\n",
              "  </div>\n",
              "  "
            ]
          },
          "metadata": {},
          "execution_count": 27
        }
      ],
      "source": [
        "# filter the rated restaurants\n",
        "df_rated = df[df['rating'] != 'Not given'].copy()\n",
        "# convert rating column from object to integer\n",
        "df_rated['rating'] = df_rated['rating'].astype('int')\n",
        "# create a dataframe that contains the restaurant names with their rating counts\n",
        "df_rating_count = df_rated.groupby(['restaurant_name'])['rating'].count().sort_values(ascending = False).reset_index()\n",
        "df_rating_count.head()"
      ]
    },
    {
      "cell_type": "code",
      "source": [
        "# get the restaurant names that have rating count more than 50\n",
        "rest_names = df_rating_count[df_rating_count['rating'] > 50]['restaurant_name']\n",
        "# filter to get the data of restaurants that have rating count more than 50\n",
        "df_mean_4 = df_rated[df_rated['restaurant_name'].isin(rest_names)].copy()\n",
        "\n",
        "# find the mean rating of the restaurants\n",
        "df_mean_4.groupby(df_mean_4['restaurant_name'])['rating'].mean().sort_values(ascending = False).reset_index()"
      ],
      "metadata": {
        "colab": {
          "base_uri": "https://localhost:8080/",
          "height": 175
        },
        "id": "hzR-dnCItg26",
        "outputId": "c2fe10a2-06c1-472b-b087-4d83e28423fc"
      },
      "execution_count": null,
      "outputs": [
        {
          "output_type": "execute_result",
          "data": {
            "text/plain": [
              "             restaurant_name    rating\n",
              "0          The Meatball Shop  4.511905\n",
              "1  Blue Ribbon Fried Chicken  4.328125\n",
              "2                Shake Shack  4.278195\n",
              "3          Blue Ribbon Sushi  4.219178"
            ],
            "text/html": [
              "\n",
              "  <div id=\"df-d5608d7d-86e6-487e-99b1-d81fbbc4853f\">\n",
              "    <div class=\"colab-df-container\">\n",
              "      <div>\n",
              "<style scoped>\n",
              "    .dataframe tbody tr th:only-of-type {\n",
              "        vertical-align: middle;\n",
              "    }\n",
              "\n",
              "    .dataframe tbody tr th {\n",
              "        vertical-align: top;\n",
              "    }\n",
              "\n",
              "    .dataframe thead th {\n",
              "        text-align: right;\n",
              "    }\n",
              "</style>\n",
              "<table border=\"1\" class=\"dataframe\">\n",
              "  <thead>\n",
              "    <tr style=\"text-align: right;\">\n",
              "      <th></th>\n",
              "      <th>restaurant_name</th>\n",
              "      <th>rating</th>\n",
              "    </tr>\n",
              "  </thead>\n",
              "  <tbody>\n",
              "    <tr>\n",
              "      <th>0</th>\n",
              "      <td>The Meatball Shop</td>\n",
              "      <td>4.511905</td>\n",
              "    </tr>\n",
              "    <tr>\n",
              "      <th>1</th>\n",
              "      <td>Blue Ribbon Fried Chicken</td>\n",
              "      <td>4.328125</td>\n",
              "    </tr>\n",
              "    <tr>\n",
              "      <th>2</th>\n",
              "      <td>Shake Shack</td>\n",
              "      <td>4.278195</td>\n",
              "    </tr>\n",
              "    <tr>\n",
              "      <th>3</th>\n",
              "      <td>Blue Ribbon Sushi</td>\n",
              "      <td>4.219178</td>\n",
              "    </tr>\n",
              "  </tbody>\n",
              "</table>\n",
              "</div>\n",
              "      <button class=\"colab-df-convert\" onclick=\"convertToInteractive('df-d5608d7d-86e6-487e-99b1-d81fbbc4853f')\"\n",
              "              title=\"Convert this dataframe to an interactive table.\"\n",
              "              style=\"display:none;\">\n",
              "        \n",
              "  <svg xmlns=\"http://www.w3.org/2000/svg\" height=\"24px\"viewBox=\"0 0 24 24\"\n",
              "       width=\"24px\">\n",
              "    <path d=\"M0 0h24v24H0V0z\" fill=\"none\"/>\n",
              "    <path d=\"M18.56 5.44l.94 2.06.94-2.06 2.06-.94-2.06-.94-.94-2.06-.94 2.06-2.06.94zm-11 1L8.5 8.5l.94-2.06 2.06-.94-2.06-.94L8.5 2.5l-.94 2.06-2.06.94zm10 10l.94 2.06.94-2.06 2.06-.94-2.06-.94-.94-2.06-.94 2.06-2.06.94z\"/><path d=\"M17.41 7.96l-1.37-1.37c-.4-.4-.92-.59-1.43-.59-.52 0-1.04.2-1.43.59L10.3 9.45l-7.72 7.72c-.78.78-.78 2.05 0 2.83L4 21.41c.39.39.9.59 1.41.59.51 0 1.02-.2 1.41-.59l7.78-7.78 2.81-2.81c.8-.78.8-2.07 0-2.86zM5.41 20L4 18.59l7.72-7.72 1.47 1.35L5.41 20z\"/>\n",
              "  </svg>\n",
              "      </button>\n",
              "      \n",
              "  <style>\n",
              "    .colab-df-container {\n",
              "      display:flex;\n",
              "      flex-wrap:wrap;\n",
              "      gap: 12px;\n",
              "    }\n",
              "\n",
              "    .colab-df-convert {\n",
              "      background-color: #E8F0FE;\n",
              "      border: none;\n",
              "      border-radius: 50%;\n",
              "      cursor: pointer;\n",
              "      display: none;\n",
              "      fill: #1967D2;\n",
              "      height: 32px;\n",
              "      padding: 0 0 0 0;\n",
              "      width: 32px;\n",
              "    }\n",
              "\n",
              "    .colab-df-convert:hover {\n",
              "      background-color: #E2EBFA;\n",
              "      box-shadow: 0px 1px 2px rgba(60, 64, 67, 0.3), 0px 1px 3px 1px rgba(60, 64, 67, 0.15);\n",
              "      fill: #174EA6;\n",
              "    }\n",
              "\n",
              "    [theme=dark] .colab-df-convert {\n",
              "      background-color: #3B4455;\n",
              "      fill: #D2E3FC;\n",
              "    }\n",
              "\n",
              "    [theme=dark] .colab-df-convert:hover {\n",
              "      background-color: #434B5C;\n",
              "      box-shadow: 0px 1px 3px 1px rgba(0, 0, 0, 0.15);\n",
              "      filter: drop-shadow(0px 1px 2px rgba(0, 0, 0, 0.3));\n",
              "      fill: #FFFFFF;\n",
              "    }\n",
              "  </style>\n",
              "\n",
              "      <script>\n",
              "        const buttonEl =\n",
              "          document.querySelector('#df-d5608d7d-86e6-487e-99b1-d81fbbc4853f button.colab-df-convert');\n",
              "        buttonEl.style.display =\n",
              "          google.colab.kernel.accessAllowed ? 'block' : 'none';\n",
              "\n",
              "        async function convertToInteractive(key) {\n",
              "          const element = document.querySelector('#df-d5608d7d-86e6-487e-99b1-d81fbbc4853f');\n",
              "          const dataTable =\n",
              "            await google.colab.kernel.invokeFunction('convertToInteractive',\n",
              "                                                     [key], {});\n",
              "          if (!dataTable) return;\n",
              "\n",
              "          const docLinkHtml = 'Like what you see? Visit the ' +\n",
              "            '<a target=\"_blank\" href=https://colab.research.google.com/notebooks/data_table.ipynb>data table notebook</a>'\n",
              "            + ' to learn more about interactive tables.';\n",
              "          element.innerHTML = '';\n",
              "          dataTable['output_type'] = 'display_data';\n",
              "          await google.colab.output.renderOutput(dataTable, element);\n",
              "          const docLink = document.createElement('div');\n",
              "          docLink.innerHTML = docLinkHtml;\n",
              "          element.appendChild(docLink);\n",
              "        }\n",
              "      </script>\n",
              "    </div>\n",
              "  </div>\n",
              "  "
            ]
          },
          "metadata": {},
          "execution_count": 29
        }
      ]
    },
    {
      "cell_type": "code",
      "source": [
        "#--Question 13\n",
        "#--Alternate solution using merge---#\n",
        "#--Step 1: Get average rating and filter > 4\n",
        "#--Get the average rating and filter out for > 4\n",
        "df_rating_filtered = df[df['rating'] != 'Not given'].copy() #--Remove 'not given'\n",
        "df_rating_filtered['rating'] = df_rating_filtered['rating'].astype('int') #--Convert to integer\n",
        "df_avg_rating = df_rating_filtered.groupby(['restaurant_name'])['rating'].mean().reset_index() #--Get average rating by restaurant name\n",
        "\n",
        "df_avg_rating = df_avg_rating[df_avg_rating['rating'] > 4.0] #--Filter for > 4\n",
        "df_avg_rating.rename(columns = {'rating' : 'avg_rating'}, inplace = True)\n",
        "\n",
        "#--Step 2: Filter by count > 50\n",
        "#--Filter by restaurant count > 50\n",
        "df_rating_count = df_rating_filtered.groupby(['restaurant_name'])['rating'].count().sort_values(ascending = False).reset_index()\n",
        "df_rating_count = df_rating_count[df_rating_count['rating'] > 50]\n",
        "df_rating_count.rename(columns = {'rating' : 'rating_count'}, inplace = True)\n",
        "\n",
        "#--Step 3: Inner join and get the set of names\n",
        "#--Get the final set of names\n",
        "df_final = pd.merge(left = df_rating_count, right = df_avg_rating, how = 'inner', on = 'restaurant_name')\n",
        "df_final.sort_values(by = 'avg_rating', ascending = False, inplace = True)\n",
        "df_final"
      ],
      "metadata": {
        "colab": {
          "base_uri": "https://localhost:8080/",
          "height": 175
        },
        "id": "Zd-SCSUkGGLB",
        "outputId": "50db58b6-bb8b-4d83-b801-d5b46fac75ee"
      },
      "execution_count": null,
      "outputs": [
        {
          "output_type": "execute_result",
          "data": {
            "text/plain": [
              "             restaurant_name  rating_count  avg_rating\n",
              "1          The Meatball Shop            84    4.511905\n",
              "3  Blue Ribbon Fried Chicken            64    4.328125\n",
              "0                Shake Shack           133    4.278195\n",
              "2          Blue Ribbon Sushi            73    4.219178"
            ],
            "text/html": [
              "\n",
              "  <div id=\"df-f4d7eeb9-c330-49f0-a3ac-d9d59ebaa0a6\">\n",
              "    <div class=\"colab-df-container\">\n",
              "      <div>\n",
              "<style scoped>\n",
              "    .dataframe tbody tr th:only-of-type {\n",
              "        vertical-align: middle;\n",
              "    }\n",
              "\n",
              "    .dataframe tbody tr th {\n",
              "        vertical-align: top;\n",
              "    }\n",
              "\n",
              "    .dataframe thead th {\n",
              "        text-align: right;\n",
              "    }\n",
              "</style>\n",
              "<table border=\"1\" class=\"dataframe\">\n",
              "  <thead>\n",
              "    <tr style=\"text-align: right;\">\n",
              "      <th></th>\n",
              "      <th>restaurant_name</th>\n",
              "      <th>rating_count</th>\n",
              "      <th>avg_rating</th>\n",
              "    </tr>\n",
              "  </thead>\n",
              "  <tbody>\n",
              "    <tr>\n",
              "      <th>1</th>\n",
              "      <td>The Meatball Shop</td>\n",
              "      <td>84</td>\n",
              "      <td>4.511905</td>\n",
              "    </tr>\n",
              "    <tr>\n",
              "      <th>3</th>\n",
              "      <td>Blue Ribbon Fried Chicken</td>\n",
              "      <td>64</td>\n",
              "      <td>4.328125</td>\n",
              "    </tr>\n",
              "    <tr>\n",
              "      <th>0</th>\n",
              "      <td>Shake Shack</td>\n",
              "      <td>133</td>\n",
              "      <td>4.278195</td>\n",
              "    </tr>\n",
              "    <tr>\n",
              "      <th>2</th>\n",
              "      <td>Blue Ribbon Sushi</td>\n",
              "      <td>73</td>\n",
              "      <td>4.219178</td>\n",
              "    </tr>\n",
              "  </tbody>\n",
              "</table>\n",
              "</div>\n",
              "      <button class=\"colab-df-convert\" onclick=\"convertToInteractive('df-f4d7eeb9-c330-49f0-a3ac-d9d59ebaa0a6')\"\n",
              "              title=\"Convert this dataframe to an interactive table.\"\n",
              "              style=\"display:none;\">\n",
              "        \n",
              "  <svg xmlns=\"http://www.w3.org/2000/svg\" height=\"24px\"viewBox=\"0 0 24 24\"\n",
              "       width=\"24px\">\n",
              "    <path d=\"M0 0h24v24H0V0z\" fill=\"none\"/>\n",
              "    <path d=\"M18.56 5.44l.94 2.06.94-2.06 2.06-.94-2.06-.94-.94-2.06-.94 2.06-2.06.94zm-11 1L8.5 8.5l.94-2.06 2.06-.94-2.06-.94L8.5 2.5l-.94 2.06-2.06.94zm10 10l.94 2.06.94-2.06 2.06-.94-2.06-.94-.94-2.06-.94 2.06-2.06.94z\"/><path d=\"M17.41 7.96l-1.37-1.37c-.4-.4-.92-.59-1.43-.59-.52 0-1.04.2-1.43.59L10.3 9.45l-7.72 7.72c-.78.78-.78 2.05 0 2.83L4 21.41c.39.39.9.59 1.41.59.51 0 1.02-.2 1.41-.59l7.78-7.78 2.81-2.81c.8-.78.8-2.07 0-2.86zM5.41 20L4 18.59l7.72-7.72 1.47 1.35L5.41 20z\"/>\n",
              "  </svg>\n",
              "      </button>\n",
              "      \n",
              "  <style>\n",
              "    .colab-df-container {\n",
              "      display:flex;\n",
              "      flex-wrap:wrap;\n",
              "      gap: 12px;\n",
              "    }\n",
              "\n",
              "    .colab-df-convert {\n",
              "      background-color: #E8F0FE;\n",
              "      border: none;\n",
              "      border-radius: 50%;\n",
              "      cursor: pointer;\n",
              "      display: none;\n",
              "      fill: #1967D2;\n",
              "      height: 32px;\n",
              "      padding: 0 0 0 0;\n",
              "      width: 32px;\n",
              "    }\n",
              "\n",
              "    .colab-df-convert:hover {\n",
              "      background-color: #E2EBFA;\n",
              "      box-shadow: 0px 1px 2px rgba(60, 64, 67, 0.3), 0px 1px 3px 1px rgba(60, 64, 67, 0.15);\n",
              "      fill: #174EA6;\n",
              "    }\n",
              "\n",
              "    [theme=dark] .colab-df-convert {\n",
              "      background-color: #3B4455;\n",
              "      fill: #D2E3FC;\n",
              "    }\n",
              "\n",
              "    [theme=dark] .colab-df-convert:hover {\n",
              "      background-color: #434B5C;\n",
              "      box-shadow: 0px 1px 3px 1px rgba(0, 0, 0, 0.15);\n",
              "      filter: drop-shadow(0px 1px 2px rgba(0, 0, 0, 0.3));\n",
              "      fill: #FFFFFF;\n",
              "    }\n",
              "  </style>\n",
              "\n",
              "      <script>\n",
              "        const buttonEl =\n",
              "          document.querySelector('#df-f4d7eeb9-c330-49f0-a3ac-d9d59ebaa0a6 button.colab-df-convert');\n",
              "        buttonEl.style.display =\n",
              "          google.colab.kernel.accessAllowed ? 'block' : 'none';\n",
              "\n",
              "        async function convertToInteractive(key) {\n",
              "          const element = document.querySelector('#df-f4d7eeb9-c330-49f0-a3ac-d9d59ebaa0a6');\n",
              "          const dataTable =\n",
              "            await google.colab.kernel.invokeFunction('convertToInteractive',\n",
              "                                                     [key], {});\n",
              "          if (!dataTable) return;\n",
              "\n",
              "          const docLinkHtml = 'Like what you see? Visit the ' +\n",
              "            '<a target=\"_blank\" href=https://colab.research.google.com/notebooks/data_table.ipynb>data table notebook</a>'\n",
              "            + ' to learn more about interactive tables.';\n",
              "          element.innerHTML = '';\n",
              "          dataTable['output_type'] = 'display_data';\n",
              "          await google.colab.output.renderOutput(dataTable, element);\n",
              "          const docLink = document.createElement('div');\n",
              "          docLink.innerHTML = docLinkHtml;\n",
              "          element.appendChild(docLink);\n",
              "        }\n",
              "      </script>\n",
              "    </div>\n",
              "  </div>\n",
              "  "
            ]
          },
          "metadata": {},
          "execution_count": 19
        }
      ]
    },
    {
      "cell_type": "markdown",
      "metadata": {
        "id": "HVRakkvim6vK"
      },
      "source": [
        "#### Observations:\n",
        "\n",
        "* The restaurants fulfilling the criteria to get the promotional offer are: **'The Meatball Shop', 'Blue Ribbon Fried Chicken',  'Shake Shack' and 'Blue Ribbon Sushi'**.\n"
      ]
    },
    {
      "cell_type": "markdown",
      "metadata": {
        "id": "DHn1K-VHm6vK"
      },
      "source": [
        "### **Question 14:** The company charges the restaurant 25% on the orders having cost greater than 20 dollars and 15% on the orders having cost greater than 5 dollars. Find the net revenue generated by the company across all orders. [3 marks]"
      ]
    },
    {
      "cell_type": "code",
      "execution_count": null,
      "metadata": {
        "colab": {
          "base_uri": "https://localhost:8080/",
          "height": 206
        },
        "id": "7FlycKaom6vL",
        "outputId": "448bbbda-a53f-4c0f-8d4c-5bb5c25fa4b3"
      },
      "outputs": [
        {
          "output_type": "execute_result",
          "data": {
            "text/plain": [
              "   order_id  customer_id            restaurant_name cuisine_type  \\\n",
              "0   1477147       337525                    Hangawi       Korean   \n",
              "1   1477685       358141  Blue Ribbon Sushi Izakaya     Japanese   \n",
              "2   1477070        66393                Cafe Habana      Mexican   \n",
              "3   1477334       106968  Blue Ribbon Fried Chicken     American   \n",
              "4   1478249        76942           Dirty Bird to Go     American   \n",
              "\n",
              "   cost_of_the_order day_of_the_week     rating  food_preparation_time  \\\n",
              "0              30.75         Weekend  Not given                     25   \n",
              "1              12.08         Weekend  Not given                     25   \n",
              "2              12.23         Weekday          5                     23   \n",
              "3              29.20         Weekend          3                     25   \n",
              "4              11.59         Weekday          4                     25   \n",
              "\n",
              "   delivery_time  Revenue  \n",
              "0             20     7.69  \n",
              "1             23     1.81  \n",
              "2             28     1.83  \n",
              "3             15     7.30  \n",
              "4             24     1.74  "
            ],
            "text/html": [
              "\n",
              "  <div id=\"df-1747cf8d-9989-4302-bd58-1f3446d61f9a\">\n",
              "    <div class=\"colab-df-container\">\n",
              "      <div>\n",
              "<style scoped>\n",
              "    .dataframe tbody tr th:only-of-type {\n",
              "        vertical-align: middle;\n",
              "    }\n",
              "\n",
              "    .dataframe tbody tr th {\n",
              "        vertical-align: top;\n",
              "    }\n",
              "\n",
              "    .dataframe thead th {\n",
              "        text-align: right;\n",
              "    }\n",
              "</style>\n",
              "<table border=\"1\" class=\"dataframe\">\n",
              "  <thead>\n",
              "    <tr style=\"text-align: right;\">\n",
              "      <th></th>\n",
              "      <th>order_id</th>\n",
              "      <th>customer_id</th>\n",
              "      <th>restaurant_name</th>\n",
              "      <th>cuisine_type</th>\n",
              "      <th>cost_of_the_order</th>\n",
              "      <th>day_of_the_week</th>\n",
              "      <th>rating</th>\n",
              "      <th>food_preparation_time</th>\n",
              "      <th>delivery_time</th>\n",
              "      <th>Revenue</th>\n",
              "    </tr>\n",
              "  </thead>\n",
              "  <tbody>\n",
              "    <tr>\n",
              "      <th>0</th>\n",
              "      <td>1477147</td>\n",
              "      <td>337525</td>\n",
              "      <td>Hangawi</td>\n",
              "      <td>Korean</td>\n",
              "      <td>30.75</td>\n",
              "      <td>Weekend</td>\n",
              "      <td>Not given</td>\n",
              "      <td>25</td>\n",
              "      <td>20</td>\n",
              "      <td>7.69</td>\n",
              "    </tr>\n",
              "    <tr>\n",
              "      <th>1</th>\n",
              "      <td>1477685</td>\n",
              "      <td>358141</td>\n",
              "      <td>Blue Ribbon Sushi Izakaya</td>\n",
              "      <td>Japanese</td>\n",
              "      <td>12.08</td>\n",
              "      <td>Weekend</td>\n",
              "      <td>Not given</td>\n",
              "      <td>25</td>\n",
              "      <td>23</td>\n",
              "      <td>1.81</td>\n",
              "    </tr>\n",
              "    <tr>\n",
              "      <th>2</th>\n",
              "      <td>1477070</td>\n",
              "      <td>66393</td>\n",
              "      <td>Cafe Habana</td>\n",
              "      <td>Mexican</td>\n",
              "      <td>12.23</td>\n",
              "      <td>Weekday</td>\n",
              "      <td>5</td>\n",
              "      <td>23</td>\n",
              "      <td>28</td>\n",
              "      <td>1.83</td>\n",
              "    </tr>\n",
              "    <tr>\n",
              "      <th>3</th>\n",
              "      <td>1477334</td>\n",
              "      <td>106968</td>\n",
              "      <td>Blue Ribbon Fried Chicken</td>\n",
              "      <td>American</td>\n",
              "      <td>29.20</td>\n",
              "      <td>Weekend</td>\n",
              "      <td>3</td>\n",
              "      <td>25</td>\n",
              "      <td>15</td>\n",
              "      <td>7.30</td>\n",
              "    </tr>\n",
              "    <tr>\n",
              "      <th>4</th>\n",
              "      <td>1478249</td>\n",
              "      <td>76942</td>\n",
              "      <td>Dirty Bird to Go</td>\n",
              "      <td>American</td>\n",
              "      <td>11.59</td>\n",
              "      <td>Weekday</td>\n",
              "      <td>4</td>\n",
              "      <td>25</td>\n",
              "      <td>24</td>\n",
              "      <td>1.74</td>\n",
              "    </tr>\n",
              "  </tbody>\n",
              "</table>\n",
              "</div>\n",
              "      <button class=\"colab-df-convert\" onclick=\"convertToInteractive('df-1747cf8d-9989-4302-bd58-1f3446d61f9a')\"\n",
              "              title=\"Convert this dataframe to an interactive table.\"\n",
              "              style=\"display:none;\">\n",
              "        \n",
              "  <svg xmlns=\"http://www.w3.org/2000/svg\" height=\"24px\"viewBox=\"0 0 24 24\"\n",
              "       width=\"24px\">\n",
              "    <path d=\"M0 0h24v24H0V0z\" fill=\"none\"/>\n",
              "    <path d=\"M18.56 5.44l.94 2.06.94-2.06 2.06-.94-2.06-.94-.94-2.06-.94 2.06-2.06.94zm-11 1L8.5 8.5l.94-2.06 2.06-.94-2.06-.94L8.5 2.5l-.94 2.06-2.06.94zm10 10l.94 2.06.94-2.06 2.06-.94-2.06-.94-.94-2.06-.94 2.06-2.06.94z\"/><path d=\"M17.41 7.96l-1.37-1.37c-.4-.4-.92-.59-1.43-.59-.52 0-1.04.2-1.43.59L10.3 9.45l-7.72 7.72c-.78.78-.78 2.05 0 2.83L4 21.41c.39.39.9.59 1.41.59.51 0 1.02-.2 1.41-.59l7.78-7.78 2.81-2.81c.8-.78.8-2.07 0-2.86zM5.41 20L4 18.59l7.72-7.72 1.47 1.35L5.41 20z\"/>\n",
              "  </svg>\n",
              "      </button>\n",
              "      \n",
              "  <style>\n",
              "    .colab-df-container {\n",
              "      display:flex;\n",
              "      flex-wrap:wrap;\n",
              "      gap: 12px;\n",
              "    }\n",
              "\n",
              "    .colab-df-convert {\n",
              "      background-color: #E8F0FE;\n",
              "      border: none;\n",
              "      border-radius: 50%;\n",
              "      cursor: pointer;\n",
              "      display: none;\n",
              "      fill: #1967D2;\n",
              "      height: 32px;\n",
              "      padding: 0 0 0 0;\n",
              "      width: 32px;\n",
              "    }\n",
              "\n",
              "    .colab-df-convert:hover {\n",
              "      background-color: #E2EBFA;\n",
              "      box-shadow: 0px 1px 2px rgba(60, 64, 67, 0.3), 0px 1px 3px 1px rgba(60, 64, 67, 0.15);\n",
              "      fill: #174EA6;\n",
              "    }\n",
              "\n",
              "    [theme=dark] .colab-df-convert {\n",
              "      background-color: #3B4455;\n",
              "      fill: #D2E3FC;\n",
              "    }\n",
              "\n",
              "    [theme=dark] .colab-df-convert:hover {\n",
              "      background-color: #434B5C;\n",
              "      box-shadow: 0px 1px 3px 1px rgba(0, 0, 0, 0.15);\n",
              "      filter: drop-shadow(0px 1px 2px rgba(0, 0, 0, 0.3));\n",
              "      fill: #FFFFFF;\n",
              "    }\n",
              "  </style>\n",
              "\n",
              "      <script>\n",
              "        const buttonEl =\n",
              "          document.querySelector('#df-1747cf8d-9989-4302-bd58-1f3446d61f9a button.colab-df-convert');\n",
              "        buttonEl.style.display =\n",
              "          google.colab.kernel.accessAllowed ? 'block' : 'none';\n",
              "\n",
              "        async function convertToInteractive(key) {\n",
              "          const element = document.querySelector('#df-1747cf8d-9989-4302-bd58-1f3446d61f9a');\n",
              "          const dataTable =\n",
              "            await google.colab.kernel.invokeFunction('convertToInteractive',\n",
              "                                                     [key], {});\n",
              "          if (!dataTable) return;\n",
              "\n",
              "          const docLinkHtml = 'Like what you see? Visit the ' +\n",
              "            '<a target=\"_blank\" href=https://colab.research.google.com/notebooks/data_table.ipynb>data table notebook</a>'\n",
              "            + ' to learn more about interactive tables.';\n",
              "          element.innerHTML = '';\n",
              "          dataTable['output_type'] = 'display_data';\n",
              "          await google.colab.output.renderOutput(dataTable, element);\n",
              "          const docLink = document.createElement('div');\n",
              "          docLink.innerHTML = docLinkHtml;\n",
              "          element.appendChild(docLink);\n",
              "        }\n",
              "      </script>\n",
              "    </div>\n",
              "  </div>\n",
              "  "
            ]
          },
          "metadata": {},
          "execution_count": 79
        }
      ],
      "source": [
        "#function to determine the net revenue\n",
        "def compute_rev(x):\n",
        "    if x > 20:\n",
        "        return x*0.25\n",
        "    elif x > 5:\n",
        "        return x*0.15\n",
        "    else:\n",
        "        return x*0\n",
        "\n",
        "df['Revenue'] = df['cost_of_the_order'].apply(compute_rev)\n",
        "df.head()"
      ]
    },
    {
      "cell_type": "code",
      "execution_count": null,
      "metadata": {
        "colab": {
          "base_uri": "https://localhost:8080/"
        },
        "id": "ZW_CQX9gOAyl",
        "outputId": "061d5fe5-6595-4882-ef16-385495a54b4b"
      },
      "outputs": [
        {
          "name": "stdout",
          "output_type": "stream",
          "text": [
            "The net revenue is around 6166.3 dollars\n"
          ]
        }
      ],
      "source": [
        "# get the total revenue and print it\n",
        "total_rev = df['Revenue'].sum()\n",
        "print('The net revenue is around', round(total_rev, 2), 'dollars')"
      ]
    },
    {
      "cell_type": "code",
      "source": [
        "#--Alternate solution using np.select\n",
        "condition = [(df['cost_of_the_order'] > 20), (df['cost_of_the_order'] > 5)]\n",
        "values = [df['cost_of_the_order'] * 0.25, df['cost_of_the_order'] * 0.15]\n",
        "\n",
        "df['charge_to_foodhub'] = np.select(condition, values)\n",
        "df['charge_to_foodhub'].sum()"
      ],
      "metadata": {
        "colab": {
          "base_uri": "https://localhost:8080/"
        },
        "id": "a3zUH2V7Cn02",
        "outputId": "a696aa58-1a86-4077-d552-3fd09f104592"
      },
      "execution_count": null,
      "outputs": [
        {
          "output_type": "execute_result",
          "data": {
            "text/plain": [
              "6166.303"
            ]
          },
          "metadata": {},
          "execution_count": 41
        }
      ]
    },
    {
      "cell_type": "code",
      "source": [
        "#--Alternate solution using np.where\n",
        "df['revenue'] = np.where(df['cost_of_the_order'] > 20, df['cost_of_the_order'] * 0.25,\n",
        "                         np.where(df['cost_of_the_order'] > 5, df['cost_of_the_order'] * 0.15, 0))\n",
        "total_revenue = df['revenue'].sum()\n",
        "total_revenue"
      ],
      "metadata": {
        "colab": {
          "base_uri": "https://localhost:8080/"
        },
        "id": "m8o2b6mIF4s1",
        "outputId": "101ebba8-028c-4b9d-c763-d0dbe15952c5"
      },
      "execution_count": null,
      "outputs": [
        {
          "output_type": "execute_result",
          "data": {
            "text/plain": [
              "6166.303"
            ]
          },
          "metadata": {},
          "execution_count": 4
        }
      ]
    },
    {
      "cell_type": "markdown",
      "metadata": {
        "id": "6wCHV0iCm6vL"
      },
      "source": [
        "#### Observations:\n",
        "\n",
        "* The net revenue generated on all the orders given in the dataset is around 6166.3 dollars.\n"
      ]
    },
    {
      "cell_type": "markdown",
      "metadata": {
        "id": "WB-qDZ9Nm6vL"
      },
      "source": [
        "### **Question 15:** The company wants to analyze the total time required to deliver the food. What percentage of orders take more than 60 minutes to get delivered from the time the order is placed? (The food has to be prepared and then delivered.) [2 marks]"
      ]
    },
    {
      "cell_type": "code",
      "execution_count": null,
      "metadata": {
        "colab": {
          "base_uri": "https://localhost:8080/"
        },
        "id": "SU6EjKtDm6vM",
        "outputId": "1a25f1c2-fc92-4ac1-a5e5-89c13daf829e"
      },
      "outputs": [
        {
          "name": "stdout",
          "output_type": "stream",
          "text": [
            "The percentage of orders that have more than 60 minutes of total delivery time is 10.54 %\n"
          ]
        }
      ],
      "source": [
        "# add a new column to the dataframe df to store the total delivery time\n",
        "df['total_time'] = df['food_preparation_time'] + df['delivery_time']\n",
        "\n",
        "# find the percentage of orders that have more than 60 minutes of total delivery time\n",
        "print ('The percentage of orders that have more than 60 minutes of total delivery time is',\n",
        "       round(df[df['total_time'] > 60].shape[0] / df.shape[0] * 100, 2),'%')"
      ]
    },
    {
      "cell_type": "code",
      "source": [
        "#--Using an additional column\n",
        "df['total_time_2'] = df['food_preparation_time'] + df['delivery_time']\n",
        "df['more_than_60'] = np.where(df['total_time_2'] > 60, 1, 0)\n",
        "percentage_more_than_60 = round(df['more_than_60'].sum() / df.shape[0]*100,2)\n",
        "percentage_more_than_60"
      ],
      "metadata": {
        "colab": {
          "base_uri": "https://localhost:8080/"
        },
        "id": "0GYl0krtQ-wq",
        "outputId": "d9adfd5a-7498-45bc-8e5f-1c308dcf0866"
      },
      "execution_count": null,
      "outputs": [
        {
          "output_type": "execute_result",
          "data": {
            "text/plain": [
              "10.54"
            ]
          },
          "metadata": {},
          "execution_count": 76
        }
      ]
    },
    {
      "cell_type": "markdown",
      "metadata": {
        "id": "vh2UixSBm6vM"
      },
      "source": [
        "#### Observations:\n",
        "\n",
        "* Approximately 10.54 % of the total orders have more than 60 minutes of total delivery time.\n"
      ]
    },
    {
      "cell_type": "markdown",
      "metadata": {
        "id": "hFz7TKR6m6vN"
      },
      "source": [
        "### **Question 16:** The company wants to analyze the delivery time of the orders on weekdays and weekends. How does the mean delivery time vary during weekdays and weekends? [2 marks]"
      ]
    },
    {
      "cell_type": "code",
      "execution_count": null,
      "metadata": {
        "colab": {
          "base_uri": "https://localhost:8080/"
        },
        "id": "kwG-TzySm6vN",
        "outputId": "ff47d233-fbcf-4856-9482-c39b79b0c63f"
      },
      "outputs": [
        {
          "name": "stdout",
          "output_type": "stream",
          "text": [
            "The mean delivery time on weekdays is around 28 minutes\n",
            "The mean delivery time on weekends is around 22 minutes\n"
          ]
        }
      ],
      "source": [
        "# get the mean delivery time on weekdays and print it\n",
        "print('The mean delivery time on weekdays is around',\n",
        "      round(df[df['day_of_the_week'] == 'Weekday']['delivery_time'].mean()),\n",
        "     'minutes')\n",
        "\n",
        "# get the mean delivery time on weekends and print it\n",
        "print('The mean delivery time on weekends is around',\n",
        "      round(df[df['day_of_the_week'] == 'Weekend']['delivery_time'].mean()),\n",
        "     'minutes')"
      ]
    },
    {
      "cell_type": "markdown",
      "metadata": {
        "id": "RkMZe420m6vN"
      },
      "source": [
        "#### Observations:\n",
        "\n",
        "* The mean delivery time on weekdays is around 28 minutes whereas the mean delivery time on weekends is around 22 minutes.\n",
        "\n",
        "* This could be due to the dip of traffic volume in the weekends."
      ]
    },
    {
      "cell_type": "markdown",
      "metadata": {
        "id": "WrYKHnjgm6vO"
      },
      "source": [
        "### Conclusion and Recommendations"
      ]
    },
    {
      "cell_type": "markdown",
      "metadata": {
        "id": "B_EY01hXm6vO"
      },
      "source": [
        "### **Question 17:** What are your conclusions from the analysis? What recommendations would you like to share to help improve the business? (You can use cuisine type and feedback ratings to drive your business recommendations.) [6 marks]"
      ]
    },
    {
      "cell_type": "markdown",
      "metadata": {
        "id": "0UI4QqLJm6vO"
      },
      "source": [
        "### Conclusions:\n",
        "\n",
        "* Around 80% of the orders are for American, Japanese, Italian and Chinese cuisines. Thus, it seems that these cuisines are quite popular among customers of FoodHub.\n",
        "* Shake Shack is the most popular restaurant that has received the highest number of orders.\n",
        "* Order volumes increase on the weekends compared to the weekdays.\n",
        "* Delivery time over the weekends is less compared to the weekdays. This could be due to the dip in traffic volume over the weekends.\n",
        "* Around 39% of the orders have not been rated."
      ]
    },
    {
      "cell_type": "markdown",
      "metadata": {
        "id": "fArKZWaRm6vO"
      },
      "source": [
        "### Business Recommendations:\n",
        "\n",
        "* FoodHub should integrate with restaurants serving American, Japanese, Italian and Chinese cuisines as these cuisines are very popular among FoodHub customers.\n",
        "\n",
        "* FoodHub should provide promotional offers to top-rated popular restaurants like Shake Shack that serve most of the orders.\n",
        "\n",
        "* As the order volume is high during the weekends, more delivery persons should be employed during the weekends to ensure timely delivery of the order. Weekend promotional offers should be given to the customers to increase the food orders during weekends.\n",
        "\n",
        "* Customer Rating is a very important factor to gauge customer satisfaction. The company should investigate the reason behind the low count of ratings. They can redesign the rating page in the app and make it more interactive to lure the customers to rate the order.\n",
        "\n",
        "* Around 11% of the total orders have more than 60 minutes of total delivery time. FoodHub should try to minimize such instances in order to avoid customer dissatisfaction. They can provide some reward to the punctual delivery persons."
      ]
    }
  ],
  "metadata": {
    "colab": {
      "collapsed_sections": [
        "JW4_u6TLm6ub",
        "FI3wLN7Tm6ue",
        "qHHGTJ1Ym6ue",
        "sH5NPhRim6ug",
        "q14hu2PHm6uh",
        "xvu97iNnm6ul",
        "yzg6ATCym6um",
        "f7GPrL1Rm6um",
        "lob6SN0-m6um",
        "QxRmA1Dlm6uo",
        "bsH_wVFXm6uq",
        "9xxcztlUm6ur",
        "pZPTwJQOm6ut",
        "Dl9_86Kcm6uv",
        "xcvccdmom6uw",
        "S7ENUfnzm6ux",
        "ZJTahAixm6ux",
        "FRutqEonm6uy",
        "aWzztbuXm6uy",
        "Qv-nWX3Lm6uz",
        "ghzjGDa0m6u0",
        "WG1N1d_jm6u1",
        "RI6-QZoxm6u1",
        "SF_LiBinm6u2",
        "ZJuvXVbGm6u3",
        "nZ3bkcL1m6u3",
        "dJcMf-HIm6u4",
        "_bmflrvLm6u4",
        "PYWJ9hw4m6u5",
        "W2BffrGIm6u5",
        "HrtWQfSJm6u6",
        "kWzh3GtPm6u6",
        "PMaQdz6Cm6u7",
        "dFV83IYdm6u8",
        "XMSbZOrrm6u8",
        "mpFTCkb4m6u9",
        "-KDs6lf7m6u9",
        "jpuNjd2jm6u-",
        "hT-S0pZ1m6u-",
        "KcDUUrytm6u-",
        "apBaHr6cm6u_",
        "7uNdYNUQm6u_",
        "mHPdLK2mm6vA",
        "_S6guWjHm6vA",
        "Q_e0JW93m6vB",
        "qI-_5-_rm6vB",
        "e7qHwKUom6vE",
        "VceRC04Nm6vF",
        "dloWP1evm6vF",
        "bEHKQDvWm6vG",
        "UsQeYjenm6vG",
        "oc6bS5UAm6vH",
        "3WkJdR5Mm6vH",
        "968jLoqLm6vI",
        "ywDKtXImm6vJ",
        "HVRakkvim6vK",
        "6wCHV0iCm6vL",
        "vh2UixSBm6vM",
        "hFz7TKR6m6vN",
        "RkMZe420m6vN",
        "WrYKHnjgm6vO",
        "B_EY01hXm6vO",
        "0UI4QqLJm6vO",
        "fArKZWaRm6vO"
      ],
      "provenance": []
    },
    "kernelspec": {
      "display_name": "Python 3 (ipykernel)",
      "language": "python",
      "name": "python3"
    },
    "language_info": {
      "codemirror_mode": {
        "name": "ipython",
        "version": 3
      },
      "file_extension": ".py",
      "mimetype": "text/x-python",
      "name": "python",
      "nbconvert_exporter": "python",
      "pygments_lexer": "ipython3",
      "version": "3.9.7"
    }
  },
  "nbformat": 4,
  "nbformat_minor": 0
}